{
 "cells": [
  {
   "cell_type": "markdown",
   "id": "bad7713d",
   "metadata": {},
   "source": [
    "# Introduction To Python"
   ]
  },
  {
   "cell_type": "markdown",
   "id": "d417f0f0",
   "metadata": {},
   "source": [
    "## Questions"
   ]
  },
  {
   "cell_type": "markdown",
   "id": "cf311580",
   "metadata": {},
   "source": [
    "**What is a programming language?**"
   ]
  },
  {
   "cell_type": "markdown",
   "id": "a5a4241e",
   "metadata": {},
   "source": [
    "Programming language is used to communicate with the computer"
   ]
  },
  {
   "cell_type": "markdown",
   "id": "32879ae4",
   "metadata": {},
   "source": [
    "**What is an IDE?**"
   ]
  },
  {
   "cell_type": "markdown",
   "id": "4f2aea70",
   "metadata": {},
   "source": [
    "IDE stands for interactive development environment.It provides an environment to develop programs"
   ]
  },
  {
   "cell_type": "markdown",
   "id": "0f8eb28e",
   "metadata": {},
   "source": [
    "**What IDE we are using?**"
   ]
  },
  {
   "cell_type": "markdown",
   "id": "8292f4cc",
   "metadata": {},
   "source": [
    "We are using jupyter notebook"
   ]
  },
  {
   "cell_type": "markdown",
   "id": "63b101ee",
   "metadata": {},
   "source": [
    "**What is a compiler and interpriter?**"
   ]
  },
  {
   "cell_type": "markdown",
   "id": "e65f11ab",
   "metadata": {},
   "source": [
    "A compiler is a translator which translate the whole program at once and a interpriter is a translator which translate one line of code at once"
   ]
  },
  {
   "cell_type": "markdown",
   "id": "8b46d2b4",
   "metadata": {},
   "source": [
    "## My first code"
   ]
  },
  {
   "cell_type": "code",
   "execution_count": 5,
   "id": "3986a1a0",
   "metadata": {},
   "outputs": [
    {
     "name": "stdout",
     "output_type": "stream",
     "text": [
      "Hello World\n"
     ]
    }
   ],
   "source": [
    "print(\"Hello World\")"
   ]
  },
  {
   "cell_type": "markdown",
   "id": "158516d7",
   "metadata": {},
   "source": [
    "# Different types of Data type"
   ]
  },
  {
   "cell_type": "markdown",
   "id": "aa2941dd",
   "metadata": {},
   "source": [
    "**What are data types?**"
   ]
  },
  {
   "cell_type": "markdown",
   "id": "2eb397c7",
   "metadata": {},
   "source": [
    "Data types are the catagories of knowledge"
   ]
  },
  {
   "cell_type": "markdown",
   "id": "d88f1e85",
   "metadata": {},
   "source": [
    "**What is knowledge?**"
   ]
  },
  {
   "cell_type": "markdown",
   "id": "15e0c530",
   "metadata": {},
   "source": [
    "Data input to the computer is knowledge for it.And it divides it into different catagories"
   ]
  },
  {
   "cell_type": "markdown",
   "id": "8b870962",
   "metadata": {},
   "source": [
    "**Name the Data type in Python?**"
   ]
  },
  {
   "cell_type": "markdown",
   "id": "64564cd1",
   "metadata": {},
   "source": [
    "Int,Float\n",
    "\n",
    "Str\n",
    "\n",
    "List,tuple\n",
    "\n",
    "dict\n",
    "\n",
    "bool\n"
   ]
  },
  {
   "cell_type": "markdown",
   "id": "3be5fd1e",
   "metadata": {},
   "source": [
    ". Shortcut for Markdown is esc+m\n",
    "\n",
    ". Shortcut for Code is esc+y"
   ]
  },
  {
   "cell_type": "markdown",
   "id": "e159c057",
   "metadata": {},
   "source": [
    "## ARITHEMETIC OPERATIONS"
   ]
  },
  {
   "cell_type": "code",
   "execution_count": 1,
   "id": "1662df34",
   "metadata": {},
   "outputs": [
    {
     "data": {
      "text/plain": [
       "4"
      ]
     },
     "execution_count": 1,
     "metadata": {},
     "output_type": "execute_result"
    }
   ],
   "source": [
    "# SUM\n",
    "2+2"
   ]
  },
  {
   "cell_type": "code",
   "execution_count": 2,
   "id": "600d55a5",
   "metadata": {},
   "outputs": [
    {
     "data": {
      "text/plain": [
       "2"
      ]
     },
     "execution_count": 2,
     "metadata": {},
     "output_type": "execute_result"
    }
   ],
   "source": [
    "# SUBTRACTION\n",
    "4-2"
   ]
  },
  {
   "cell_type": "code",
   "execution_count": 3,
   "id": "2d69b0a3",
   "metadata": {},
   "outputs": [
    {
     "data": {
      "text/plain": [
       "4"
      ]
     },
     "execution_count": 3,
     "metadata": {},
     "output_type": "execute_result"
    }
   ],
   "source": [
    "# Multiplication\n",
    "2*2"
   ]
  },
  {
   "cell_type": "code",
   "execution_count": 4,
   "id": "b9f11547",
   "metadata": {},
   "outputs": [
    {
     "data": {
      "text/plain": [
       "2.0"
      ]
     },
     "execution_count": 4,
     "metadata": {},
     "output_type": "execute_result"
    }
   ],
   "source": [
    "# Divisions\n",
    "4/2"
   ]
  },
  {
   "cell_type": "code",
   "execution_count": 6,
   "id": "69e03ecf",
   "metadata": {},
   "outputs": [
    {
     "data": {
      "text/plain": [
       "6"
      ]
     },
     "execution_count": 6,
     "metadata": {},
     "output_type": "execute_result"
    }
   ],
   "source": [
    "# Floor Division\n",
    "13//2"
   ]
  },
  {
   "cell_type": "code",
   "execution_count": 8,
   "id": "44b9b072",
   "metadata": {},
   "outputs": [
    {
     "data": {
      "text/plain": [
       "1"
      ]
     },
     "execution_count": 8,
     "metadata": {},
     "output_type": "execute_result"
    }
   ],
   "source": [
    "# REMAINDER\n",
    "13%2"
   ]
  },
  {
   "cell_type": "code",
   "execution_count": 1,
   "id": "6cc32372",
   "metadata": {},
   "outputs": [
    {
     "data": {
      "text/plain": [
       "25"
      ]
     },
     "execution_count": 1,
     "metadata": {},
     "output_type": "execute_result"
    }
   ],
   "source": [
    "# EXPONENT\n",
    "5**2"
   ]
  },
  {
   "cell_type": "markdown",
   "id": "6191683c",
   "metadata": {},
   "source": [
    "## COMMENTS"
   ]
  },
  {
   "cell_type": "code",
   "execution_count": 3,
   "id": "40f34d83",
   "metadata": {},
   "outputs": [
    {
     "data": {
      "text/plain": [
       "'\\nyou need to use three comas\\nthis way you can add multiple lines of comments \\nthese are also used to docstring in function\\n'"
      ]
     },
     "execution_count": 3,
     "metadata": {},
     "output_type": "execute_result"
    }
   ],
   "source": [
    "#hash is used to add comments\n",
    "# but it wont add multiple peras of comment if you want to add multiples\n",
    "\"\"\"\n",
    "you need to use three comas\n",
    "this way you can add multiple lines of comments \n",
    "these are also used to docstring in function\n",
    "\"\"\""
   ]
  },
  {
   "cell_type": "markdown",
   "id": "f84f6847",
   "metadata": {},
   "source": [
    "## VARIABLES"
   ]
  },
  {
   "cell_type": "code",
   "execution_count": 2,
   "id": "8f7b423b",
   "metadata": {},
   "outputs": [],
   "source": [
    "student_name=\"Ashtar\""
   ]
  },
  {
   "cell_type": "markdown",
   "id": "1d86cdb2",
   "metadata": {},
   "source": [
    "**=** is assignment operator"
   ]
  },
  {
   "cell_type": "code",
   "execution_count": 3,
   "id": "195d2cdd",
   "metadata": {},
   "outputs": [
    {
     "data": {
      "text/plain": [
       "'Ashtar'"
      ]
     },
     "execution_count": 3,
     "metadata": {},
     "output_type": "execute_result"
    }
   ],
   "source": [
    "student_name"
   ]
  },
  {
   "cell_type": "markdown",
   "id": "1a42beb6",
   "metadata": {},
   "source": [
    "**What is a Student name?**"
   ]
  },
  {
   "cell_type": "markdown",
   "id": "a801e7d7",
   "metadata": {},
   "source": [
    "Student name is a variable pointing towards Ashtar"
   ]
  },
  {
   "cell_type": "markdown",
   "id": "4a2e6eae",
   "metadata": {},
   "source": [
    "## FUNCTION"
   ]
  },
  {
   "cell_type": "markdown",
   "id": "b9677452",
   "metadata": {},
   "source": [
    "Function is a code that execute a specific task and does it well|"
   ]
  },
  {
   "cell_type": "markdown",
   "id": "062f9fba",
   "metadata": {},
   "source": [
    "## PRINT FUNCTION"
   ]
  },
  {
   "cell_type": "markdown",
   "id": "19405535",
   "metadata": {},
   "source": [
    "Now we are going to use print function to print multiple variables at a time"
   ]
  },
  {
   "cell_type": "code",
   "execution_count": 4,
   "id": "36ac65e5",
   "metadata": {},
   "outputs": [
    {
     "name": "stdout",
     "output_type": "stream",
     "text": [
      "Hello World\n"
     ]
    }
   ],
   "source": [
    "print(\"Hello World\")"
   ]
  },
  {
   "cell_type": "code",
   "execution_count": 5,
   "id": "b0bb1711",
   "metadata": {},
   "outputs": [
    {
     "name": "stdout",
     "output_type": "stream",
     "text": [
      "Ashtar 14 2008\n"
     ]
    }
   ],
   "source": [
    "# Initating variables\n",
    "student_name=\"Ashtar\"\n",
    "age=\"14\"\n",
    "year=\"2008\"\n",
    "# print the variable together\n",
    "print(student_name,age,year)"
   ]
  },
  {
   "cell_type": "markdown",
   "id": "5b26ca65",
   "metadata": {},
   "source": [
    "print is a function and input to it are argument"
   ]
  },
  {
   "cell_type": "markdown",
   "id": "9d99afe2",
   "metadata": {},
   "source": [
    "# Using Sep Argument"
   ]
  },
  {
   "cell_type": "code",
   "execution_count": 17,
   "id": "1c88dcca",
   "metadata": {},
   "outputs": [
    {
     "name": "stdout",
     "output_type": "stream",
     "text": [
      "Ashtar age is 14\n"
     ]
    }
   ],
   "source": [
    "print(student_name,age,sep=\" age is \")"
   ]
  },
  {
   "cell_type": "markdown",
   "id": "986e3973",
   "metadata": {},
   "source": [
    "## USING END ARGUEMENT"
   ]
  },
  {
   "cell_type": "code",
   "execution_count": 6,
   "id": "2e010c99",
   "metadata": {},
   "outputs": [
    {
     "name": "stdout",
     "output_type": "stream",
     "text": [
      "Ashtar\n",
      "14\n",
      "2008\n"
     ]
    }
   ],
   "source": [
    "# Without end arguement\n",
    "print(student_name)\n",
    "print(age)\n",
    "print(year)"
   ]
  },
  {
   "cell_type": "code",
   "execution_count": 13,
   "id": "ada03af7",
   "metadata": {},
   "outputs": [
    {
     "name": "stdout",
     "output_type": "stream",
     "text": [
      "Ashtar 14 2008\n"
     ]
    }
   ],
   "source": [
    "# with end arguement\n",
    "print(student_name,end=\" \")\n",
    "print(age,end=\" \")\n",
    "print(year)"
   ]
  },
  {
   "cell_type": "markdown",
   "id": "7a6e2b09",
   "metadata": {},
   "source": [
    "# Help()"
   ]
  },
  {
   "cell_type": "code",
   "execution_count": 19,
   "id": "5c96cf0b",
   "metadata": {},
   "outputs": [
    {
     "name": "stdout",
     "output_type": "stream",
     "text": [
      "Help on built-in function print in module builtins:\n",
      "\n",
      "print(...)\n",
      "    print(value, ..., sep=' ', end='\\n', file=sys.stdout, flush=False)\n",
      "    \n",
      "    Prints the values to a stream, or to sys.stdout by default.\n",
      "    Optional keyword arguments:\n",
      "    file:  a file-like object (stream); defaults to the current sys.stdout.\n",
      "    sep:   string inserted between values, default a space.\n",
      "    end:   string appended after the last value, default a newline.\n",
      "    flush: whether to forcibly flush the stream.\n",
      "\n"
     ]
    }
   ],
   "source": [
    "help(print)"
   ]
  },
  {
   "cell_type": "code",
   "execution_count": 2,
   "id": "1b3c740a",
   "metadata": {},
   "outputs": [],
   "source": [
    "def sum_1(a,b):\n",
    "    \"\"\"\n",
    "    It takes two numbers and return their sum\n",
    "    \n",
    "    \"\"\"\n",
    "    return(a+b)"
   ]
  },
  {
   "cell_type": "code",
   "execution_count": 3,
   "id": "5abe8344",
   "metadata": {},
   "outputs": [],
   "source": [
    "?sum_1"
   ]
  },
  {
   "cell_type": "markdown",
   "id": "14895ffc",
   "metadata": {},
   "source": [
    "# Time magic function"
   ]
  },
  {
   "cell_type": "code",
   "execution_count": 25,
   "id": "71f3d561",
   "metadata": {},
   "outputs": [
    {
     "name": "stdout",
     "output_type": "stream",
     "text": [
      "CPU times: total: 0 ns\n",
      "Wall time: 0 ns\n",
      "Hellooo\n"
     ]
    }
   ],
   "source": [
    "%time\n",
    "print(\"Hellooo\")"
   ]
  },
  {
   "cell_type": "code",
   "execution_count": 2,
   "id": "41adac74",
   "metadata": {},
   "outputs": [
    {
     "name": "stdout",
     "output_type": "stream",
     "text": [
      "bla bla\n",
      "bla bla\n",
      "bla bla\n",
      "bla bla\n",
      "bla bla\n",
      "bla bla\n",
      "bla bla\n",
      "bla bla\n",
      "bla bla\n",
      "bla bla\n",
      "bla bla\n",
      "bla bla\n",
      "bla bla\n",
      "bla bla\n",
      "bla bla\n",
      "bla bla\n",
      "bla bla\n",
      "bla bla\n",
      "bla bla\n",
      "bla bla\n",
      "bla bla\n",
      "bla bla\n",
      "bla bla\n",
      "bla bla\n",
      "bla bla\n",
      "bla bla\n",
      "bla bla\n",
      "bla bla\n",
      "bla bla\n",
      "bla bla\n",
      "bla bla\n",
      "bla bla\n",
      "bla bla\n",
      "bla bla\n",
      "bla bla\n",
      "bla bla\n",
      "bla bla\n",
      "bla bla\n",
      "bla bla\n",
      "bla bla\n",
      "bla bla\n",
      "bla bla\n",
      "bla bla\n",
      "bla bla\n",
      "bla bla\n",
      "bla bla\n",
      "bla bla\n",
      "bla bla\n",
      "bla bla\n",
      "bla bla\n",
      "bla bla\n",
      "bla bla\n",
      "bla bla\n",
      "bla bla\n",
      "bla bla\n",
      "bla bla\n",
      "bla bla\n",
      "bla bla\n",
      "bla bla\n",
      "bla bla\n",
      "bla bla\n",
      "bla bla\n",
      "bla bla\n",
      "bla bla\n",
      "bla bla\n",
      "bla bla\n",
      "bla bla\n",
      "bla bla\n",
      "bla bla\n",
      "bla bla\n",
      "bla bla\n",
      "bla bla\n",
      "bla bla\n",
      "bla bla\n",
      "bla bla\n",
      "bla bla\n",
      "bla bla\n",
      "bla bla\n",
      "bla bla\n",
      "bla bla\n",
      "bla bla\n",
      "bla bla\n",
      "bla bla\n",
      "bla bla\n",
      "bla bla\n",
      "bla bla\n",
      "bla bla\n",
      "bla bla\n",
      "bla bla\n",
      "bla bla\n",
      "bla bla\n",
      "bla bla\n",
      "bla bla\n",
      "bla bla\n",
      "bla bla\n",
      "bla bla\n",
      "bla bla\n",
      "bla bla\n",
      "bla bla\n",
      "bla bla\n",
      "bla bla\n",
      "bla bla\n",
      "bla bla\n",
      "bla bla\n",
      "bla bla\n",
      "bla bla\n",
      "bla bla\n",
      "bla bla\n",
      "bla bla\n",
      "bla bla\n",
      "bla bla\n",
      "bla bla\n",
      "bla bla\n",
      "bla bla\n",
      "bla bla\n",
      "bla bla\n",
      "bla bla\n",
      "bla bla\n",
      "bla bla\n",
      "bla bla\n",
      "bla bla\n",
      "bla bla\n",
      "bla bla\n",
      "bla bla\n",
      "bla bla\n",
      "bla bla\n",
      "bla bla\n",
      "bla bla\n",
      "bla bla\n",
      "bla bla\n",
      "bla bla\n",
      "bla bla\n",
      "bla bla\n",
      "bla bla\n",
      "bla bla\n",
      "bla bla\n",
      "bla bla\n",
      "bla bla\n",
      "bla bla\n",
      "bla bla\n",
      "bla bla\n",
      "bla bla\n",
      "bla bla\n",
      "bla bla\n",
      "bla bla\n",
      "bla bla\n",
      "bla bla\n",
      "bla bla\n",
      "bla bla\n",
      "bla bla\n",
      "bla bla\n",
      "bla bla\n",
      "bla bla\n",
      "bla bla\n",
      "bla bla\n",
      "bla bla\n",
      "bla bla\n",
      "bla bla\n",
      "bla bla\n",
      "bla bla\n",
      "bla bla\n",
      "bla bla\n",
      "bla bla\n",
      "bla bla\n",
      "bla bla\n",
      "bla bla\n",
      "bla bla\n",
      "bla bla\n",
      "bla bla\n",
      "bla bla\n",
      "bla bla\n",
      "bla bla\n",
      "bla bla\n",
      "bla bla\n",
      "bla bla\n",
      "bla bla\n",
      "bla bla\n",
      "bla bla\n",
      "bla bla\n",
      "bla bla\n",
      "bla bla\n",
      "bla bla\n",
      "bla bla\n",
      "bla bla\n",
      "bla bla\n",
      "bla bla\n",
      "bla bla\n",
      "bla bla\n",
      "bla bla\n",
      "bla bla\n",
      "bla bla\n",
      "bla bla\n",
      "bla bla\n",
      "bla bla\n",
      "bla bla\n",
      "bla bla\n",
      "bla bla\n",
      "bla bla\n",
      "bla bla\n",
      "bla bla\n",
      "bla bla\n",
      "bla bla\n",
      "bla bla\n",
      "bla bla\n",
      "bla bla\n",
      "bla bla\n",
      "bla bla\n",
      "bla bla\n",
      "bla bla\n",
      "bla bla\n",
      "bla bla\n",
      "bla bla\n",
      "bla bla\n",
      "bla bla\n",
      "bla bla\n",
      "bla bla\n",
      "bla bla\n",
      "bla bla\n",
      "bla bla\n",
      "bla bla\n",
      "bla bla\n",
      "bla bla\n",
      "bla bla\n",
      "bla bla\n",
      "bla bla\n",
      "bla bla\n",
      "bla bla\n",
      "bla bla\n",
      "bla bla\n",
      "bla bla\n",
      "bla bla\n",
      "bla bla\n",
      "bla bla\n",
      "bla bla\n",
      "bla bla\n",
      "bla bla\n",
      "bla bla\n",
      "bla bla\n",
      "bla bla\n",
      "bla bla\n",
      "bla bla\n",
      "bla bla\n",
      "bla bla\n",
      "bla bla\n",
      "bla bla\n",
      "bla bla\n",
      "bla bla\n",
      "bla bla\n",
      "bla bla\n",
      "bla bla\n",
      "bla bla\n",
      "bla bla\n",
      "bla bla\n",
      "bla bla\n",
      "bla bla\n",
      "bla bla\n",
      "bla bla\n",
      "bla bla\n",
      "bla bla\n",
      "bla bla\n",
      "bla bla\n",
      "bla bla\n",
      "bla bla\n",
      "bla bla\n",
      "bla bla\n",
      "bla bla\n",
      "bla bla\n",
      "bla bla\n",
      "bla bla\n",
      "bla bla\n",
      "bla bla\n",
      "bla bla\n",
      "bla bla\n",
      "bla bla\n",
      "bla bla\n",
      "bla bla\n",
      "bla bla\n",
      "bla bla\n",
      "bla bla\n",
      "bla bla\n",
      "bla bla\n",
      "bla bla\n",
      "bla bla\n",
      "bla bla\n",
      "bla bla\n",
      "bla bla\n",
      "bla bla\n",
      "bla bla\n",
      "bla bla\n",
      "bla bla\n",
      "bla bla\n",
      "bla bla\n",
      "bla bla\n",
      "bla bla\n",
      "bla bla\n",
      "bla bla\n",
      "bla bla\n",
      "bla bla\n",
      "bla bla\n",
      "bla bla\n",
      "bla bla\n",
      "bla bla\n",
      "bla bla\n",
      "bla bla\n",
      "bla bla\n",
      "bla bla\n",
      "bla bla\n",
      "bla bla\n",
      "bla bla\n",
      "bla bla\n",
      "bla bla\n",
      "bla bla\n",
      "bla bla\n",
      "bla bla\n",
      "bla bla\n",
      "bla bla\n",
      "bla bla\n",
      "bla bla\n",
      "bla bla\n",
      "bla bla\n",
      "bla bla\n",
      "bla bla\n",
      "bla bla\n",
      "bla bla\n",
      "bla bla\n",
      "bla bla\n",
      "bla bla\n",
      "bla bla\n",
      "bla bla\n",
      "bla bla\n",
      "bla bla\n",
      "bla bla\n",
      "bla bla\n",
      "bla bla\n",
      "bla bla\n",
      "bla bla\n",
      "bla bla\n",
      "bla bla\n",
      "bla bla\n",
      "bla bla\n",
      "bla bla\n",
      "bla bla\n",
      "bla bla\n",
      "bla bla\n",
      "bla bla\n",
      "bla bla\n",
      "bla bla\n",
      "bla bla\n",
      "bla bla\n",
      "bla bla\n",
      "bla bla\n",
      "bla bla\n",
      "bla bla\n",
      "bla bla\n",
      "bla bla\n",
      "bla bla\n",
      "bla bla\n",
      "bla bla\n",
      "bla bla\n",
      "bla bla\n",
      "bla bla\n",
      "bla bla\n",
      "bla bla\n",
      "bla bla\n",
      "bla bla\n",
      "bla bla\n",
      "bla bla\n",
      "bla bla\n",
      "bla bla\n",
      "bla bla\n",
      "bla bla\n",
      "bla bla\n",
      "bla bla\n",
      "bla bla\n",
      "bla bla\n",
      "bla bla\n",
      "bla bla\n",
      "bla bla\n",
      "bla bla\n",
      "bla bla\n",
      "bla bla\n",
      "bla bla\n",
      "bla bla\n",
      "bla bla\n",
      "bla bla\n",
      "bla bla\n",
      "bla bla\n",
      "bla bla\n",
      "bla bla\n",
      "bla bla\n",
      "bla bla\n",
      "bla bla\n",
      "bla bla\n",
      "bla bla\n",
      "bla bla\n",
      "bla bla\n",
      "bla bla\n",
      "bla bla\n",
      "bla bla\n",
      "bla bla\n",
      "bla bla\n",
      "bla bla\n",
      "bla bla\n",
      "bla bla\n",
      "bla bla\n",
      "bla bla\n",
      "bla bla\n",
      "bla bla\n",
      "bla bla\n",
      "bla bla\n",
      "bla bla\n",
      "bla bla\n",
      "bla bla\n",
      "bla bla\n",
      "bla bla\n",
      "bla bla\n",
      "bla bla\n",
      "bla bla\n",
      "bla bla\n",
      "bla bla\n",
      "bla bla\n",
      "bla bla\n",
      "bla bla\n",
      "bla bla\n",
      "bla bla\n",
      "bla bla\n",
      "bla bla\n",
      "bla bla\n",
      "bla bla\n",
      "bla bla\n",
      "bla bla\n",
      "bla bla\n",
      "bla bla\n",
      "bla bla\n",
      "bla bla\n",
      "bla bla\n",
      "bla bla\n",
      "bla bla\n",
      "bla bla\n",
      "bla bla\n",
      "bla bla\n",
      "bla bla\n",
      "bla bla\n",
      "bla bla\n",
      "bla bla\n",
      "bla bla\n",
      "bla bla\n",
      "bla bla\n",
      "bla bla\n",
      "bla bla\n",
      "bla bla\n",
      "bla bla\n",
      "bla bla\n",
      "bla bla\n",
      "bla bla\n",
      "bla bla\n",
      "bla bla\n",
      "bla bla\n",
      "bla bla\n",
      "bla bla\n",
      "bla bla\n",
      "bla bla\n",
      "bla bla\n",
      "bla bla\n",
      "bla bla\n",
      "bla bla\n",
      "bla bla\n",
      "bla bla\n",
      "bla bla\n",
      "bla bla\n",
      "bla bla\n",
      "bla bla\n",
      "bla bla\n",
      "bla bla\n",
      "bla bla\n",
      "bla bla\n",
      "bla bla\n",
      "bla bla\n",
      "bla bla\n",
      "bla bla\n",
      "bla bla\n",
      "bla bla\n",
      "bla bla\n",
      "bla bla\n",
      "bla bla\n",
      "bla bla\n",
      "bla bla\n",
      "bla bla\n",
      "bla bla\n",
      "bla bla\n",
      "bla bla\n",
      "bla bla\n",
      "bla bla\n",
      "bla bla\n",
      "bla bla\n",
      "bla bla\n",
      "bla bla\n",
      "bla bla\n",
      "bla bla\n",
      "bla bla\n",
      "bla bla\n",
      "bla bla\n",
      "bla bla\n",
      "bla bla\n",
      "bla bla\n",
      "bla bla\n",
      "bla bla\n",
      "bla bla\n",
      "bla bla\n",
      "bla bla\n",
      "bla bla\n",
      "bla bla\n",
      "bla bla\n",
      "bla bla\n",
      "bla bla\n",
      "bla bla\n",
      "bla bla\n",
      "bla bla\n",
      "bla bla\n",
      "bla bla\n",
      "bla bla\n",
      "bla bla\n",
      "bla bla\n",
      "bla bla\n",
      "bla bla\n",
      "bla bla\n",
      "bla bla\n",
      "bla bla\n",
      "bla bla\n",
      "bla bla\n",
      "bla bla\n",
      "bla bla\n",
      "bla bla\n",
      "bla bla\n",
      "bla bla\n",
      "bla bla\n",
      "bla bla\n",
      "bla bla\n",
      "bla bla\n",
      "bla bla\n",
      "bla bla\n",
      "bla bla\n",
      "bla bla\n",
      "bla bla\n",
      "bla bla\n",
      "bla bla\n",
      "bla bla\n",
      "bla bla\n",
      "bla bla\n",
      "bla bla\n",
      "bla bla\n",
      "bla bla\n",
      "bla bla\n",
      "bla bla\n",
      "bla bla\n",
      "bla bla\n",
      "bla bla\n",
      "bla bla\n",
      "bla bla\n",
      "bla bla\n",
      "bla bla\n",
      "bla bla\n",
      "bla bla\n",
      "bla bla\n",
      "bla bla\n",
      "bla bla\n",
      "bla bla\n",
      "bla bla\n",
      "bla bla\n",
      "bla bla\n",
      "bla bla\n",
      "bla bla\n",
      "bla bla\n",
      "bla bla\n",
      "bla bla\n",
      "bla bla\n",
      "bla bla\n",
      "bla bla\n",
      "bla bla\n",
      "bla bla\n",
      "bla bla\n",
      "bla bla\n",
      "bla bla\n",
      "bla bla\n",
      "bla bla\n",
      "bla bla\n",
      "bla bla\n",
      "bla bla\n",
      "bla bla\n",
      "bla bla\n",
      "bla bla\n",
      "bla bla\n",
      "bla bla\n",
      "bla bla\n",
      "bla bla\n",
      "bla bla\n",
      "bla bla\n",
      "bla bla\n",
      "bla bla\n",
      "bla bla\n",
      "bla bla\n",
      "bla bla\n",
      "bla bla\n",
      "bla bla\n",
      "bla bla\n",
      "bla bla\n",
      "bla bla\n",
      "bla bla\n",
      "bla bla\n",
      "bla bla\n",
      "bla bla\n",
      "bla bla\n",
      "bla bla\n",
      "bla bla\n",
      "bla bla\n",
      "bla bla\n",
      "bla bla\n",
      "bla bla\n",
      "bla bla\n",
      "bla bla\n",
      "bla bla\n",
      "bla bla\n",
      "bla bla\n",
      "bla bla\n",
      "bla bla\n",
      "bla bla\n",
      "bla bla\n",
      "bla bla\n",
      "bla bla\n",
      "bla bla\n",
      "bla bla\n",
      "bla bla\n",
      "bla bla\n",
      "bla bla\n",
      "bla bla\n",
      "bla bla\n",
      "bla bla\n",
      "bla bla\n",
      "bla bla\n",
      "bla bla\n",
      "bla bla\n",
      "bla bla\n",
      "bla bla\n",
      "bla bla\n",
      "bla bla\n",
      "bla bla\n",
      "bla bla\n",
      "bla bla\n",
      "bla bla\n",
      "bla bla\n",
      "bla bla\n",
      "bla bla\n",
      "bla bla\n",
      "bla bla\n",
      "bla bla\n",
      "bla bla\n",
      "bla bla\n",
      "bla bla\n",
      "bla bla\n",
      "bla bla\n",
      "bla bla\n",
      "bla bla\n",
      "bla bla\n",
      "bla bla\n",
      "bla bla\n",
      "bla bla\n",
      "bla bla\n",
      "bla bla\n",
      "bla bla\n",
      "bla bla\n",
      "bla bla\n",
      "bla bla\n",
      "bla bla\n",
      "bla bla\n",
      "bla bla\n",
      "bla bla\n",
      "bla bla\n",
      "bla bla\n",
      "bla bla\n",
      "bla bla\n",
      "bla bla\n",
      "bla bla\n",
      "bla bla\n",
      "bla bla\n",
      "bla bla\n",
      "bla bla\n",
      "bla bla\n",
      "bla bla\n",
      "bla bla\n",
      "bla bla\n",
      "bla bla\n",
      "bla bla\n",
      "bla bla\n",
      "bla bla\n",
      "bla bla\n",
      "bla bla\n",
      "bla bla\n",
      "bla bla\n",
      "bla bla\n",
      "bla bla\n",
      "bla bla\n",
      "bla bla\n",
      "bla bla\n",
      "bla bla\n",
      "bla bla\n",
      "bla bla\n",
      "bla bla\n",
      "bla bla\n",
      "bla bla\n",
      "bla bla\n",
      "bla bla\n",
      "bla bla\n",
      "bla bla\n",
      "bla bla\n",
      "bla bla\n",
      "bla bla\n",
      "bla bla\n",
      "bla bla\n",
      "bla bla\n",
      "bla bla\n",
      "bla bla\n",
      "bla bla\n",
      "bla bla\n",
      "bla bla\n",
      "bla bla\n",
      "bla bla\n",
      "bla bla\n",
      "bla bla\n",
      "bla bla\n",
      "bla bla\n",
      "bla bla\n",
      "bla bla\n",
      "bla bla\n",
      "bla bla\n",
      "bla bla\n",
      "bla bla\n",
      "bla bla\n",
      "bla bla\n",
      "bla bla\n",
      "bla bla\n",
      "bla bla\n",
      "bla bla\n",
      "bla bla\n",
      "bla bla\n",
      "bla bla\n",
      "bla bla\n",
      "bla bla\n",
      "bla bla\n",
      "bla bla\n",
      "bla bla\n",
      "bla bla\n",
      "bla bla\n",
      "bla bla\n",
      "bla bla\n",
      "bla bla\n",
      "bla bla\n",
      "bla bla\n",
      "bla bla\n",
      "bla bla\n",
      "bla bla\n",
      "bla bla\n",
      "bla bla\n",
      "bla bla\n",
      "bla bla\n",
      "bla bla\n",
      "bla bla\n",
      "bla bla\n",
      "bla bla\n",
      "bla bla\n",
      "bla bla\n",
      "bla bla\n",
      "bla bla\n",
      "bla bla\n",
      "bla bla\n",
      "bla bla\n",
      "bla bla\n",
      "bla bla\n",
      "bla bla\n",
      "bla bla\n",
      "bla bla\n",
      "bla bla\n",
      "bla bla\n",
      "bla bla\n",
      "bla bla\n",
      "bla bla\n",
      "bla bla\n",
      "bla bla\n",
      "bla bla\n",
      "bla bla\n",
      "bla bla\n",
      "bla bla\n",
      "bla bla\n",
      "bla bla\n",
      "bla bla\n",
      "bla bla\n",
      "bla bla\n",
      "bla bla\n",
      "bla bla\n",
      "bla bla\n",
      "bla bla\n",
      "bla bla\n",
      "bla bla\n",
      "bla bla\n",
      "bla bla\n",
      "bla bla\n",
      "bla bla\n",
      "bla bla\n",
      "bla bla\n",
      "bla bla\n",
      "bla bla\n",
      "bla bla\n",
      "bla bla\n",
      "bla bla\n",
      "bla bla\n",
      "bla bla\n",
      "bla bla\n",
      "bla bla\n",
      "bla bla\n",
      "bla bla\n",
      "bla bla\n",
      "bla bla\n",
      "bla bla\n",
      "bla bla\n",
      "bla bla\n",
      "bla bla\n",
      "bla bla\n",
      "bla bla\n",
      "bla bla\n",
      "bla bla\n",
      "bla bla\n",
      "bla bla\n",
      "bla bla\n",
      "bla bla\n",
      "bla bla\n",
      "bla bla\n",
      "bla bla\n",
      "bla bla\n",
      "bla bla\n",
      "bla bla\n",
      "bla bla\n",
      "bla bla\n",
      "bla bla\n",
      "bla bla\n",
      "bla bla\n",
      "bla bla\n",
      "bla bla\n",
      "bla bla\n",
      "bla bla\n",
      "bla bla\n",
      "bla bla\n",
      "bla bla\n",
      "bla bla\n",
      "bla bla\n",
      "bla bla\n",
      "bla bla\n",
      "bla bla\n",
      "bla bla\n",
      "bla bla\n",
      "bla bla\n",
      "bla bla\n",
      "bla bla\n",
      "bla bla\n",
      "bla bla\n",
      "bla bla\n",
      "bla bla\n",
      "bla bla\n",
      "bla bla\n",
      "bla bla\n",
      "bla bla\n",
      "bla bla\n",
      "bla bla\n",
      "bla bla\n",
      "bla bla\n",
      "bla bla\n",
      "bla bla\n",
      "bla bla\n",
      "bla bla\n",
      "bla bla\n",
      "bla bla\n",
      "bla bla\n",
      "bla bla\n",
      "bla bla\n",
      "bla bla\n",
      "bla bla\n",
      "bla bla\n",
      "bla bla\n",
      "bla bla\n",
      "bla bla\n",
      "bla bla\n",
      "bla bla\n",
      "bla bla\n",
      "bla bla\n",
      "bla bla\n",
      "bla bla\n",
      "bla bla\n",
      "bla bla\n",
      "bla bla\n",
      "bla bla\n",
      "bla bla\n",
      "bla bla\n",
      "bla bla\n",
      "bla bla\n",
      "bla bla\n",
      "bla bla\n",
      "bla bla\n",
      "bla bla\n",
      "bla bla\n",
      "bla bla\n",
      "bla bla\n",
      "bla bla\n",
      "bla bla\n",
      "bla bla\n",
      "bla bla\n",
      "bla bla\n",
      "bla bla\n",
      "bla bla\n",
      "bla bla\n",
      "bla bla\n",
      "bla bla\n",
      "bla bla\n",
      "bla bla\n",
      "bla bla\n",
      "bla bla\n",
      "bla bla\n",
      "bla bla\n",
      "bla bla\n",
      "bla bla\n",
      "bla bla\n",
      "bla bla\n",
      "bla bla\n",
      "bla bla\n",
      "bla bla\n",
      "bla bla\n",
      "bla bla\n",
      "bla bla\n",
      "bla bla\n",
      "bla bla\n",
      "bla bla\n",
      "bla bla\n",
      "bla bla\n",
      "bla bla\n",
      "bla bla\n",
      "bla bla\n",
      "bla bla\n",
      "bla bla\n",
      "bla bla\n",
      "bla bla\n",
      "bla bla\n",
      "bla bla\n",
      "bla bla\n",
      "bla bla\n",
      "bla bla\n",
      "bla bla\n",
      "bla bla\n",
      "bla bla\n",
      "bla bla\n",
      "bla bla\n",
      "bla bla\n",
      "bla bla\n",
      "bla bla\n",
      "bla bla\n",
      "bla bla\n",
      "bla bla\n",
      "bla bla\n",
      "bla bla\n",
      "bla bla\n",
      "bla bla\n",
      "bla bla\n",
      "bla bla\n",
      "bla bla\n",
      "bla bla\n",
      "bla bla\n",
      "bla bla\n",
      "bla bla\n",
      "bla bla\n",
      "bla bla\n",
      "bla bla\n",
      "bla bla\n",
      "bla bla\n",
      "bla bla\n",
      "bla bla\n",
      "bla bla\n",
      "bla bla\n",
      "bla bla\n",
      "bla bla\n",
      "bla bla\n",
      "bla bla\n",
      "bla bla\n",
      "bla bla\n",
      "bla bla\n",
      "bla bla\n",
      "bla bla\n",
      "bla bla\n",
      "bla bla\n",
      "bla bla\n",
      "bla bla\n",
      "bla bla\n",
      "bla bla\n",
      "bla bla\n",
      "bla bla\n",
      "CPU times: total: 0 ns\n",
      "Wall time: 14.8 ms\n"
     ]
    }
   ],
   "source": [
    "%time for i in range(1000): print(\"bla bla\")"
   ]
  },
  {
   "cell_type": "markdown",
   "id": "e47fad3a",
   "metadata": {},
   "source": [
    "# VARIABLES"
   ]
  },
  {
   "cell_type": "code",
   "execution_count": 3,
   "id": "dac7756f",
   "metadata": {},
   "outputs": [],
   "source": [
    "student_name=\"Ashtar\""
   ]
  },
  {
   "cell_type": "markdown",
   "id": "b991286a",
   "metadata": {},
   "source": [
    "## Checking the memory location/id"
   ]
  },
  {
   "cell_type": "code",
   "execution_count": 4,
   "id": "f19931d4",
   "metadata": {},
   "outputs": [
    {
     "data": {
      "text/plain": [
       "1378533707568"
      ]
     },
     "execution_count": 4,
     "metadata": {},
     "output_type": "execute_result"
    }
   ],
   "source": [
    "id(student_name)"
   ]
  },
  {
   "cell_type": "code",
   "execution_count": 5,
   "id": "9b9d412c",
   "metadata": {},
   "outputs": [],
   "source": [
    "student=\"Ashtar\""
   ]
  },
  {
   "cell_type": "code",
   "execution_count": 6,
   "id": "de72183c",
   "metadata": {},
   "outputs": [
    {
     "data": {
      "text/plain": [
       "1378533707568"
      ]
     },
     "execution_count": 6,
     "metadata": {},
     "output_type": "execute_result"
    }
   ],
   "source": [
    "id(student)"
   ]
  },
  {
   "cell_type": "code",
   "execution_count": 24,
   "id": "2a70fcd3",
   "metadata": {},
   "outputs": [],
   "source": [
    "sjh=\"Ashtar\""
   ]
  },
  {
   "cell_type": "code",
   "execution_count": 25,
   "id": "c9d026b5",
   "metadata": {},
   "outputs": [
    {
     "data": {
      "text/plain": [
       "1378533707568"
      ]
     },
     "execution_count": 25,
     "metadata": {},
     "output_type": "execute_result"
    }
   ],
   "source": [
    "id(sjh)"
   ]
  },
  {
   "cell_type": "markdown",
   "id": "110c99bd",
   "metadata": {},
   "source": [
    "## Using Del Function"
   ]
  },
  {
   "cell_type": "code",
   "execution_count": 26,
   "id": "bcf38ecf",
   "metadata": {},
   "outputs": [],
   "source": [
    "del(sjh)"
   ]
  },
  {
   "cell_type": "code",
   "execution_count": 30,
   "id": "94084cfb",
   "metadata": {},
   "outputs": [],
   "source": [
    "#sjh"
   ]
  },
  {
   "cell_type": "markdown",
   "id": "c6d64e01",
   "metadata": {},
   "source": [
    "# Numbers"
   ]
  },
  {
   "cell_type": "markdown",
   "id": "a95ab3be",
   "metadata": {},
   "source": [
    "## Complex numbers"
   ]
  },
  {
   "cell_type": "markdown",
   "id": "f15d7f02",
   "metadata": {},
   "source": [
    "**Complex numbers have real and imaginary parts**"
   ]
  },
  {
   "cell_type": "code",
   "execution_count": 36,
   "id": "f8f90d6c",
   "metadata": {},
   "outputs": [],
   "source": [
    "# Initializing variables\n",
    "a = 1\n",
    "b = 2.3\n",
    "c = True\n",
    "d = complex(2,3)\n",
    "d = 2+3j"
   ]
  },
  {
   "cell_type": "markdown",
   "id": "45027386",
   "metadata": {},
   "source": [
    "## Type functions"
   ]
  },
  {
   "cell_type": "code",
   "execution_count": 38,
   "id": "fab5ab3c",
   "metadata": {},
   "outputs": [
    {
     "data": {
      "text/plain": [
       "int"
      ]
     },
     "execution_count": 38,
     "metadata": {},
     "output_type": "execute_result"
    }
   ],
   "source": [
    "type(a)"
   ]
  },
  {
   "cell_type": "code",
   "execution_count": 39,
   "id": "70b47352",
   "metadata": {},
   "outputs": [
    {
     "data": {
      "text/plain": [
       "float"
      ]
     },
     "execution_count": 39,
     "metadata": {},
     "output_type": "execute_result"
    }
   ],
   "source": [
    "type(b)"
   ]
  },
  {
   "cell_type": "code",
   "execution_count": 40,
   "id": "675063ab",
   "metadata": {},
   "outputs": [
    {
     "data": {
      "text/plain": [
       "(bool, complex)"
      ]
     },
     "execution_count": 40,
     "metadata": {},
     "output_type": "execute_result"
    }
   ],
   "source": [
    "type(c),type(d)"
   ]
  },
  {
   "cell_type": "code",
   "execution_count": 42,
   "id": "b9f6ec27",
   "metadata": {},
   "outputs": [
    {
     "name": "stdout",
     "output_type": "stream",
     "text": [
      "<class 'int'> -- <class 'float'> -- <class 'bool'> -- <class 'complex'>\n"
     ]
    }
   ],
   "source": [
    "print(type(a),type(b),type(c),type(d), sep=\" -- \")"
   ]
  }
 ],
 "metadata": {
  "kernelspec": {
   "display_name": "Python 3 (ipykernel)",
   "language": "python",
   "name": "python3"
  },
  "language_info": {
   "codemirror_mode": {
    "name": "ipython",
    "version": 3
   },
   "file_extension": ".py",
   "mimetype": "text/x-python",
   "name": "python",
   "nbconvert_exporter": "python",
   "pygments_lexer": "ipython3",
   "version": "3.10.8"
  }
 },
 "nbformat": 4,
 "nbformat_minor": 5
}
