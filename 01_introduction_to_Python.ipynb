{
 "cells": [
  {
   "cell_type": "markdown",
   "id": "bad7713d",
   "metadata": {},
   "source": [
    "# Introduction To Python"
   ]
  },
  {
   "cell_type": "markdown",
   "id": "5a44feba",
   "metadata": {},
   "source": [
    "## Questions"
   ]
  },
  {
   "cell_type": "markdown",
   "id": "cf311580",
   "metadata": {},
   "source": [
    "**What is a programming language?**"
   ]
  },
  {
   "cell_type": "markdown",
   "id": "a5a4241e",
   "metadata": {},
   "source": [
    "Programming language is used to communicate with the computer"
   ]
  },
  {
   "cell_type": "markdown",
   "id": "32879ae4",
   "metadata": {},
   "source": [
    "**What is an IDE?**"
   ]
  },
  {
   "cell_type": "markdown",
   "id": "4f2aea70",
   "metadata": {},
   "source": [
    "IDE stands for interactive development environment.It provides an environment to develop programs"
   ]
  },
  {
   "cell_type": "markdown",
   "id": "0f8eb28e",
   "metadata": {},
   "source": [
    "**What IDE we are using?**"
   ]
  },
  {
   "cell_type": "markdown",
   "id": "8292f4cc",
   "metadata": {},
   "source": [
    "We are using jupyter notebook"
   ]
  },
  {
   "cell_type": "markdown",
   "id": "63b101ee",
   "metadata": {},
   "source": [
    "**What is a compiler and interpriter?**"
   ]
  },
  {
   "cell_type": "markdown",
   "id": "e65f11ab",
   "metadata": {},
   "source": [
    "A compiler is a translator which translate the whole program at once and a interpriter is a translator which translate one line of code at once"
   ]
  },
  {
   "cell_type": "markdown",
   "id": "8b46d2b4",
   "metadata": {},
   "source": [
    "## My first code"
   ]
  },
  {
   "cell_type": "code",
   "execution_count": 5,
   "id": "3986a1a0",
   "metadata": {},
   "outputs": [
    {
     "name": "stdout",
     "output_type": "stream",
     "text": [
      "Hello World\n"
     ]
    }
   ],
   "source": [
    "print(\"Hello World\")"
   ]
  },
  {
   "cell_type": "markdown",
   "id": "158516d7",
   "metadata": {},
   "source": [
    "# Different types of Data type"
   ]
  },
  {
   "cell_type": "markdown",
   "id": "aa2941dd",
   "metadata": {},
   "source": [
    "**What are data types?**"
   ]
  },
  {
   "cell_type": "markdown",
   "id": "2eb397c7",
   "metadata": {},
   "source": [
    "Data types are the catagories of knowledge"
   ]
  },
  {
   "cell_type": "markdown",
   "id": "d88f1e85",
   "metadata": {},
   "source": [
    "**What is knowledge?**"
   ]
  },
  {
   "cell_type": "markdown",
   "id": "15e0c530",
   "metadata": {},
   "source": [
    "Data input to the computer is knowledge for it.And it divides it into different catagories"
   ]
  },
  {
   "cell_type": "markdown",
   "id": "8b870962",
   "metadata": {},
   "source": [
    "**Name the Data type in Python?**"
   ]
  },
  {
   "cell_type": "markdown",
   "id": "64564cd1",
   "metadata": {},
   "source": [
    "Int,Float\n",
    "\n",
    "Str\n",
    "\n",
    "List,tuple\n",
    "\n",
    "dict\n",
    "\n",
    "bool\n"
   ]
  },
  {
   "cell_type": "markdown",
   "id": "6de7f01f",
   "metadata": {},
   "source": [
    "# Shortcut Keys"
   ]
  },
  {
   "cell_type": "markdown",
   "id": "3be5fd1e",
   "metadata": {},
   "source": [
    ". **Shortcut for Markdown is esc+m**\n",
    "\n",
    ". **Shortcut for Code is esc+y**\n",
    "\n",
    ".**Shortcut for finding specific code**"
   ]
  },
  {
   "cell_type": "markdown",
   "id": "e159c057",
   "metadata": {},
   "source": [
    "# ARITHEMETIC OPERATIONS"
   ]
  },
  {
   "cell_type": "code",
   "execution_count": 1,
   "id": "1662df34",
   "metadata": {},
   "outputs": [
    {
     "data": {
      "text/plain": [
       "4"
      ]
     },
     "execution_count": 1,
     "metadata": {},
     "output_type": "execute_result"
    }
   ],
   "source": [
    "# SUM\n",
    "2+2"
   ]
  },
  {
   "cell_type": "code",
   "execution_count": 2,
   "id": "600d55a5",
   "metadata": {},
   "outputs": [
    {
     "data": {
      "text/plain": [
       "2"
      ]
     },
     "execution_count": 2,
     "metadata": {},
     "output_type": "execute_result"
    }
   ],
   "source": [
    "# SUBTRACTION\n",
    "4-2"
   ]
  },
  {
   "cell_type": "code",
   "execution_count": 3,
   "id": "2d69b0a3",
   "metadata": {},
   "outputs": [
    {
     "data": {
      "text/plain": [
       "4"
      ]
     },
     "execution_count": 3,
     "metadata": {},
     "output_type": "execute_result"
    }
   ],
   "source": [
    "# Multiplication\n",
    "2*2"
   ]
  },
  {
   "cell_type": "code",
   "execution_count": 4,
   "id": "b9f11547",
   "metadata": {},
   "outputs": [
    {
     "data": {
      "text/plain": [
       "2.0"
      ]
     },
     "execution_count": 4,
     "metadata": {},
     "output_type": "execute_result"
    }
   ],
   "source": [
    "# Divisions\n",
    "4/2"
   ]
  },
  {
   "cell_type": "code",
   "execution_count": 6,
   "id": "69e03ecf",
   "metadata": {},
   "outputs": [
    {
     "data": {
      "text/plain": [
       "6"
      ]
     },
     "execution_count": 6,
     "metadata": {},
     "output_type": "execute_result"
    }
   ],
   "source": [
    "# Floor Division\n",
    "13//2"
   ]
  },
  {
   "cell_type": "code",
   "execution_count": 8,
   "id": "44b9b072",
   "metadata": {},
   "outputs": [
    {
     "data": {
      "text/plain": [
       "1"
      ]
     },
     "execution_count": 8,
     "metadata": {},
     "output_type": "execute_result"
    }
   ],
   "source": [
    "# REMAINDER\n",
    "13%2"
   ]
  },
  {
   "cell_type": "code",
   "execution_count": 1,
   "id": "6cc32372",
   "metadata": {},
   "outputs": [
    {
     "data": {
      "text/plain": [
       "25"
      ]
     },
     "execution_count": 1,
     "metadata": {},
     "output_type": "execute_result"
    }
   ],
   "source": [
    "# EXPONENT\n",
    "5**2"
   ]
  },
  {
   "cell_type": "markdown",
   "id": "6191683c",
   "metadata": {},
   "source": [
    "## COMMENTS"
   ]
  },
  {
   "cell_type": "code",
   "execution_count": 3,
   "id": "40f34d83",
   "metadata": {},
   "outputs": [
    {
     "data": {
      "text/plain": [
       "'\\nyou need to use three comas\\nthis way you can add multiple lines of comments \\nthese are also used to docstring in function\\n'"
      ]
     },
     "execution_count": 3,
     "metadata": {},
     "output_type": "execute_result"
    }
   ],
   "source": [
    "#hash is used to add comments\n",
    "# but it wont add multiple peras of comment if you want to add multiples\n",
    "\"\"\"\n",
    "you need to use three comas\n",
    "this way you can add multiple lines of comments \n",
    "these are also used to docstring in function\n",
    "\"\"\""
   ]
  },
  {
   "cell_type": "markdown",
   "id": "f84f6847",
   "metadata": {},
   "source": [
    "## VARIABLES"
   ]
  },
  {
   "cell_type": "code",
   "execution_count": 2,
   "id": "8f7b423b",
   "metadata": {},
   "outputs": [],
   "source": [
    "student_name=\"Ashtar\""
   ]
  },
  {
   "cell_type": "markdown",
   "id": "1d86cdb2",
   "metadata": {},
   "source": [
    "**=** is assignment operator"
   ]
  },
  {
   "cell_type": "code",
   "execution_count": 3,
   "id": "195d2cdd",
   "metadata": {},
   "outputs": [
    {
     "data": {
      "text/plain": [
       "'Ashtar'"
      ]
     },
     "execution_count": 3,
     "metadata": {},
     "output_type": "execute_result"
    }
   ],
   "source": [
    "student_name"
   ]
  },
  {
   "cell_type": "markdown",
   "id": "1a42beb6",
   "metadata": {},
   "source": [
    "**What is a Student name?**"
   ]
  },
  {
   "cell_type": "markdown",
   "id": "a801e7d7",
   "metadata": {},
   "source": [
    "Student name is a variable pointing towards Ashtar"
   ]
  },
  {
   "cell_type": "markdown",
   "id": "4a2e6eae",
   "metadata": {},
   "source": [
    "## FUNCTION"
   ]
  },
  {
   "cell_type": "markdown",
   "id": "b9677452",
   "metadata": {},
   "source": [
    "Function is a code that execute a specific task and does it well|"
   ]
  },
  {
   "cell_type": "markdown",
   "id": "062f9fba",
   "metadata": {},
   "source": [
    "## PRINT FUNCTION"
   ]
  },
  {
   "cell_type": "markdown",
   "id": "19405535",
   "metadata": {},
   "source": [
    "Now we are going to use print function to print multiple variables at a time"
   ]
  },
  {
   "cell_type": "code",
   "execution_count": 4,
   "id": "36ac65e5",
   "metadata": {},
   "outputs": [
    {
     "name": "stdout",
     "output_type": "stream",
     "text": [
      "Hello World\n"
     ]
    }
   ],
   "source": [
    "print(\"Hello World\")"
   ]
  },
  {
   "cell_type": "code",
   "execution_count": 5,
   "id": "b0bb1711",
   "metadata": {},
   "outputs": [
    {
     "name": "stdout",
     "output_type": "stream",
     "text": [
      "Ashtar 14 2008\n"
     ]
    }
   ],
   "source": [
    "# Initating variables\n",
    "student_name=\"Ashtar\"\n",
    "age=\"14\"\n",
    "year=\"2008\"\n",
    "# print the variable together\n",
    "print(student_name,age,year)"
   ]
  },
  {
   "cell_type": "markdown",
   "id": "5b26ca65",
   "metadata": {},
   "source": [
    "print is a function and input to it are argument"
   ]
  },
  {
   "cell_type": "markdown",
   "id": "9d99afe2",
   "metadata": {},
   "source": [
    "# Using Sep Argument"
   ]
  },
  {
   "cell_type": "code",
   "execution_count": 17,
   "id": "1c88dcca",
   "metadata": {},
   "outputs": [
    {
     "name": "stdout",
     "output_type": "stream",
     "text": [
      "Ashtar age is 14\n"
     ]
    }
   ],
   "source": [
    "print(student_name,age,sep=\" age is \")"
   ]
  },
  {
   "cell_type": "markdown",
   "id": "986e3973",
   "metadata": {},
   "source": [
    "## USING END ARGUEMENT"
   ]
  },
  {
   "cell_type": "code",
   "execution_count": 6,
   "id": "2e010c99",
   "metadata": {},
   "outputs": [
    {
     "name": "stdout",
     "output_type": "stream",
     "text": [
      "Ashtar\n",
      "14\n",
      "2008\n"
     ]
    }
   ],
   "source": [
    "# Without end arguement\n",
    "print(student_name)\n",
    "print(age)\n",
    "print(year)"
   ]
  },
  {
   "cell_type": "code",
   "execution_count": 13,
   "id": "ada03af7",
   "metadata": {},
   "outputs": [
    {
     "name": "stdout",
     "output_type": "stream",
     "text": [
      "Ashtar 14 2008\n"
     ]
    }
   ],
   "source": [
    "# with end arguement\n",
    "print(student_name,end=\" \")\n",
    "print(age,end=\" \")\n",
    "print(year)"
   ]
  },
  {
   "cell_type": "markdown",
   "id": "7a6e2b09",
   "metadata": {},
   "source": [
    "# Help()"
   ]
  },
  {
   "cell_type": "code",
   "execution_count": 19,
   "id": "5c96cf0b",
   "metadata": {},
   "outputs": [
    {
     "name": "stdout",
     "output_type": "stream",
     "text": [
      "Help on built-in function print in module builtins:\n",
      "\n",
      "print(...)\n",
      "    print(value, ..., sep=' ', end='\\n', file=sys.stdout, flush=False)\n",
      "    \n",
      "    Prints the values to a stream, or to sys.stdout by default.\n",
      "    Optional keyword arguments:\n",
      "    file:  a file-like object (stream); defaults to the current sys.stdout.\n",
      "    sep:   string inserted between values, default a space.\n",
      "    end:   string appended after the last value, default a newline.\n",
      "    flush: whether to forcibly flush the stream.\n",
      "\n"
     ]
    }
   ],
   "source": [
    "help(print)"
   ]
  },
  {
   "cell_type": "code",
   "execution_count": 2,
   "id": "1b3c740a",
   "metadata": {},
   "outputs": [],
   "source": [
    "def sum_1(a,b):\n",
    "    \"\"\"\n",
    "    It takes two numbers and return their sum\n",
    "    \n",
    "    \"\"\"\n",
    "    return(a+b)"
   ]
  },
  {
   "cell_type": "code",
   "execution_count": 3,
   "id": "5abe8344",
   "metadata": {},
   "outputs": [],
   "source": [
    "?sum_1"
   ]
  },
  {
   "cell_type": "markdown",
   "id": "14895ffc",
   "metadata": {},
   "source": [
    "# Time magic function"
   ]
  },
  {
   "cell_type": "code",
   "execution_count": 25,
   "id": "71f3d561",
   "metadata": {},
   "outputs": [
    {
     "name": "stdout",
     "output_type": "stream",
     "text": [
      "CPU times: total: 0 ns\n",
      "Wall time: 0 ns\n",
      "Hellooo\n"
     ]
    }
   ],
   "source": [
    "%time\n",
    "print(\"Hellooo\")"
   ]
  },
  {
   "cell_type": "code",
   "execution_count": 43,
   "id": "41adac74",
   "metadata": {},
   "outputs": [],
   "source": [
    "# %time for i in range(1000): print(\"bla bla\")"
   ]
  },
  {
   "cell_type": "markdown",
   "id": "842107fc",
   "metadata": {},
   "source": [
    "# VARIABLES"
   ]
  },
  {
   "cell_type": "code",
   "execution_count": 3,
   "id": "b4df8810",
   "metadata": {},
   "outputs": [],
   "source": [
    "student_name=\"Ashtar\""
   ]
  },
  {
   "cell_type": "markdown",
   "id": "8fe13892",
   "metadata": {},
   "source": [
    "## Checking the memory location/id"
   ]
  },
  {
   "cell_type": "code",
   "execution_count": 4,
   "id": "166fcc0e",
   "metadata": {},
   "outputs": [
    {
     "data": {
      "text/plain": [
       "1378533707568"
      ]
     },
     "execution_count": 4,
     "metadata": {},
     "output_type": "execute_result"
    }
   ],
   "source": [
    "id(student_name)"
   ]
  },
  {
   "cell_type": "code",
   "execution_count": 5,
   "id": "6f510871",
   "metadata": {},
   "outputs": [],
   "source": [
    "student=\"Ashtar\""
   ]
  },
  {
   "cell_type": "code",
   "execution_count": 6,
   "id": "93597f85",
   "metadata": {},
   "outputs": [
    {
     "data": {
      "text/plain": [
       "1378533707568"
      ]
     },
     "execution_count": 6,
     "metadata": {},
     "output_type": "execute_result"
    }
   ],
   "source": [
    "id(student)"
   ]
  },
  {
   "cell_type": "code",
   "execution_count": 24,
   "id": "8f4cae08",
   "metadata": {},
   "outputs": [],
   "source": [
    "sjh=\"Ashtar\""
   ]
  },
  {
   "cell_type": "code",
   "execution_count": 25,
   "id": "7c8c3e53",
   "metadata": {},
   "outputs": [
    {
     "data": {
      "text/plain": [
       "1378533707568"
      ]
     },
     "execution_count": 25,
     "metadata": {},
     "output_type": "execute_result"
    }
   ],
   "source": [
    "id(sjh)"
   ]
  },
  {
   "cell_type": "markdown",
   "id": "2713bf89",
   "metadata": {},
   "source": [
    "## Using Del Function"
   ]
  },
  {
   "cell_type": "code",
   "execution_count": 26,
   "id": "dcaf89bc",
   "metadata": {},
   "outputs": [],
   "source": [
    "del(sjh)"
   ]
  },
  {
   "cell_type": "code",
   "execution_count": 30,
   "id": "ad3e54ad",
   "metadata": {},
   "outputs": [],
   "source": [
    "#sjh"
   ]
  },
  {
   "cell_type": "markdown",
   "id": "f618b5dc",
   "metadata": {},
   "source": [
    "# Numbers"
   ]
  },
  {
   "cell_type": "markdown",
   "id": "e6033034",
   "metadata": {},
   "source": [
    "## Complex numbers"
   ]
  },
  {
   "cell_type": "markdown",
   "id": "4c5bfb9c",
   "metadata": {},
   "source": [
    "**Complex numbers have real and imaginary parts**"
   ]
  },
  {
   "cell_type": "code",
   "execution_count": 4,
   "id": "618179a3",
   "metadata": {},
   "outputs": [],
   "source": [
    "# Initializing variables\n",
    "a = 1\n",
    "b = 2.3\n",
    "c = True\n",
    "d = complex(2,3)\n",
    "d = 2+3j"
   ]
  },
  {
   "cell_type": "markdown",
   "id": "d7439200",
   "metadata": {},
   "source": [
    "## Type functions"
   ]
  },
  {
   "cell_type": "code",
   "execution_count": 5,
   "id": "944c300f",
   "metadata": {},
   "outputs": [
    {
     "data": {
      "text/plain": [
       "int"
      ]
     },
     "execution_count": 5,
     "metadata": {},
     "output_type": "execute_result"
    }
   ],
   "source": [
    "type(a)"
   ]
  },
  {
   "cell_type": "code",
   "execution_count": 5,
   "id": "92567a96",
   "metadata": {},
   "outputs": [
    {
     "data": {
      "text/plain": [
       "float"
      ]
     },
     "execution_count": 5,
     "metadata": {},
     "output_type": "execute_result"
    }
   ],
   "source": [
    "type(b)"
   ]
  },
  {
   "cell_type": "code",
   "execution_count": 6,
   "id": "0aa724f8",
   "metadata": {},
   "outputs": [
    {
     "data": {
      "text/plain": [
       "(bool, complex)"
      ]
     },
     "execution_count": 6,
     "metadata": {},
     "output_type": "execute_result"
    }
   ],
   "source": [
    "type(c),type(d)"
   ]
  },
  {
   "cell_type": "code",
   "execution_count": 7,
   "id": "72ccc51e",
   "metadata": {},
   "outputs": [
    {
     "name": "stdout",
     "output_type": "stream",
     "text": [
      "<class 'int'> -- <class 'float'> -- <class 'bool'> -- <class 'complex'>\n"
     ]
    }
   ],
   "source": [
    "print(type(a),type(b),type(c),type(d), sep=\" -- \")"
   ]
  },
  {
   "cell_type": "markdown",
   "id": "91308d1d",
   "metadata": {},
   "source": [
    "# Operators"
   ]
  },
  {
   "cell_type": "markdown",
   "id": "1be252dd",
   "metadata": {},
   "source": [
    "![](s.png)"
   ]
  },
  {
   "cell_type": "markdown",
   "id": "622efcbd",
   "metadata": {},
   "source": [
    "## 1) = \"Assignment operator\""
   ]
  },
  {
   "cell_type": "markdown",
   "id": "7c4283ab",
   "metadata": {},
   "source": [
    "**It is used to assign a value to a variable**"
   ]
  },
  {
   "cell_type": "code",
   "execution_count": 8,
   "id": "61e7a7b3",
   "metadata": {},
   "outputs": [],
   "source": [
    "Ashtar =\"Ashtar\""
   ]
  },
  {
   "cell_type": "markdown",
   "id": "e8b623ec",
   "metadata": {},
   "source": [
    "**here assign operator is used to assign a string \"Ashtar\" to \"Ashtar\"**"
   ]
  },
  {
   "cell_type": "markdown",
   "id": "0638abdf",
   "metadata": {},
   "source": [
    "## Logical operator"
   ]
  },
  {
   "cell_type": "markdown",
   "id": "24578b20",
   "metadata": {},
   "source": [
    "**These operators are used to ,ale decisions based on logic**"
   ]
  },
  {
   "cell_type": "markdown",
   "id": "8f5358f0",
   "metadata": {},
   "source": [
    "### 1) Greater Than>"
   ]
  },
  {
   "cell_type": "code",
   "execution_count": 9,
   "id": "6036e0ab",
   "metadata": {},
   "outputs": [],
   "source": [
    "a = 5 \n",
    "b = 3"
   ]
  },
  {
   "cell_type": "code",
   "execution_count": 10,
   "id": "4637f43a",
   "metadata": {},
   "outputs": [
    {
     "data": {
      "text/plain": [
       "True"
      ]
     },
     "execution_count": 10,
     "metadata": {},
     "output_type": "execute_result"
    }
   ],
   "source": [
    "a>b"
   ]
  },
  {
   "cell_type": "code",
   "execution_count": 11,
   "id": "e55302e1",
   "metadata": {},
   "outputs": [
    {
     "data": {
      "text/plain": [
       "False"
      ]
     },
     "execution_count": 11,
     "metadata": {},
     "output_type": "execute_result"
    }
   ],
   "source": [
    "b>a"
   ]
  },
  {
   "cell_type": "markdown",
   "id": "4b6d2b3f",
   "metadata": {},
   "source": [
    "### 2) Less Than<"
   ]
  },
  {
   "cell_type": "code",
   "execution_count": 12,
   "id": "079e24bd",
   "metadata": {},
   "outputs": [],
   "source": [
    "raheem = 20\n",
    "ali = 10"
   ]
  },
  {
   "cell_type": "code",
   "execution_count": 18,
   "id": "a6e72c7f",
   "metadata": {},
   "outputs": [
    {
     "name": "stdout",
     "output_type": "stream",
     "text": [
      "Ali is older than Raheem: False\n"
     ]
    }
   ],
   "source": [
    "print(f\"Ali is older than Raheem: {raheem<ali}\")"
   ]
  },
  {
   "cell_type": "markdown",
   "id": "81901317",
   "metadata": {},
   "source": [
    "**Above is the way of printing formaled string**"
   ]
  },
  {
   "cell_type": "markdown",
   "id": "3693a781",
   "metadata": {},
   "source": [
    "### 3)Greater than or equal to>="
   ]
  },
  {
   "cell_type": "markdown",
   "id": "e5c5a811",
   "metadata": {},
   "source": [
    "**greater than or equal to is evaluated true either if both are equal or one is greater than other**"
   ]
  },
  {
   "cell_type": "code",
   "execution_count": 22,
   "id": "c10c0705",
   "metadata": {},
   "outputs": [
    {
     "name": "stdout",
     "output_type": "stream",
     "text": [
      "Condition 1 : True\n",
      "Condition 2 : True\n",
      "Condition 3 : False\n"
     ]
    }
   ],
   "source": [
    "# Condition 1\n",
    "raheem = 20\n",
    "ali = 20\n",
    "print(f\"Condition 1 : {raheem >= ali}\")\n",
    "\n",
    "# Condition 2\n",
    "raheem = 20\n",
    "ali = 10\n",
    "print(f\"Condition 2 : {raheem>= ali}\")\n",
    "\n",
    "# Condition 3\n",
    "ali = 20\n",
    "raheem = 10\n",
    "print(f\"Condition 3 : {raheem>= ali}\")"
   ]
  },
  {
   "cell_type": "markdown",
   "id": "f07a6ef9",
   "metadata": {},
   "source": [
    "### Less than equal to<="
   ]
  },
  {
   "cell_type": "code",
   "execution_count": 23,
   "id": "43350a1d",
   "metadata": {},
   "outputs": [
    {
     "name": "stdout",
     "output_type": "stream",
     "text": [
      "Condition 1 : True\n",
      "Condition 2 : False\n",
      "condition 3 : True\n"
     ]
    }
   ],
   "source": [
    "# Condition 1\n",
    "raheem = 20\n",
    "ali = 20\n",
    "print(f\"Condition 1 : {raheem <= ali}\")\n",
    "\n",
    "# Condition 2\n",
    "raheen = 20\n",
    "ali = 10\n",
    "print(f\"Condition 2 : {raheem<= ali}\")\n",
    "\n",
    "# Condition 3\n",
    "ali = 20\n",
    "raheem = 10\n",
    "print(f\"condition 3 : {raheem<= ali}\")"
   ]
  },
  {
   "cell_type": "markdown",
   "id": "7e499da2",
   "metadata": {},
   "source": [
    "### Not equal !="
   ]
  },
  {
   "cell_type": "code",
   "execution_count": 25,
   "id": "1f805ea7",
   "metadata": {},
   "outputs": [
    {
     "name": "stdout",
     "output_type": "stream",
     "text": [
      " Ali and Raheem ages are not equal : True\n"
     ]
    }
   ],
   "source": [
    "Raheem = 20\n",
    "Ali = 10\n",
    "\n",
    "print(f\" Ali and Raheem ages are not equal : {Raheem != Ali}\")"
   ]
  },
  {
   "cell_type": "markdown",
   "id": "f61759aa",
   "metadata": {},
   "source": [
    "# Exercise"
   ]
  },
  {
   "cell_type": "code",
   "execution_count": 4,
   "id": "a20fbc28",
   "metadata": {},
   "outputs": [
    {
     "name": "stdout",
     "output_type": "stream",
     "text": [
      "Ali is smaller than Ajmal : True\n",
      "The greter one will be multiplied by 2 : 60\n"
     ]
    }
   ],
   "source": [
    "# Initiate two variables named Ali and Ajmal\n",
    "Ali = 20\n",
    "Ajmal = 30\n",
    "\n",
    "# Compare Both Variables to check whose age is greater\n",
    "print(f\"Ali is smaller than Ajmal : {Ali<= Ajmal}\")\n",
    "\n",
    "# The greater one should be multiplied by 2 and printed\n",
    "print(f\"The greter one will be multiplied by 2 : {Ajmal* 2}\")"
   ]
  },
  {
   "cell_type": "markdown",
   "id": "a4467e7b",
   "metadata": {},
   "source": [
    "### OR Logic operator"
   ]
  },
  {
   "cell_type": "code",
   "execution_count": 4,
   "id": "b7d7da54",
   "metadata": {},
   "outputs": [
    {
     "name": "stdout",
     "output_type": "stream",
     "text": [
      "Statement evaluates to : True\n",
      "Statement evaluates to : True\n"
     ]
    }
   ],
   "source": [
    "# Prints True if both the condition are met\n",
    "ali = 10\n",
    "hashim = 10\n",
    "\n",
    "print (f\"Statement evaluates to : {ali==hashim or ali==hashim}\")\n",
    "\n",
    "# Condition 2\n",
    "print(f\"Statement evaluates to : {ali==hashim or ali != hashim}\")"
   ]
  },
  {
   "cell_type": "markdown",
   "id": "961ec0af",
   "metadata": {},
   "source": [
    "### AND logical operator"
   ]
  },
  {
   "cell_type": "code",
   "execution_count": 7,
   "id": "97001fe3",
   "metadata": {},
   "outputs": [
    {
     "name": "stdout",
     "output_type": "stream",
     "text": [
      "Statement evaluates to : True\n",
      "Statement evaluates to : False\n"
     ]
    }
   ],
   "source": [
    "ali = 10\n",
    "hashim = 10\n",
    "# Condition 1\n",
    "print(f\"Statement evaluates to : {ali == hashim and ali == hashim}\")\n",
    "\n",
    "# Condition 2 \n",
    "print(f\"Statement evaluates to : {ali == hashim and ali != hashim}\")"
   ]
  },
  {
   "cell_type": "markdown",
   "id": "cc057568",
   "metadata": {},
   "source": [
    "### Not logical Operatoe"
   ]
  },
  {
   "cell_type": "code",
   "execution_count": 13,
   "id": "60a28906",
   "metadata": {},
   "outputs": [
    {
     "name": "stdout",
     "output_type": "stream",
     "text": [
      "Statement evaluate to : True\n",
      "Statement evaluate to : False\n"
     ]
    }
   ],
   "source": [
    "ali = 10\n",
    "hashim = 10\n",
    "# Condition 1\n",
    "print (f\"Statement evaluate to : {not (hashim != ali)}\")\n",
    "print(f\"Statement evaluate to : {not (hashim == ali)}\")"
   ]
  },
  {
   "cell_type": "markdown",
   "id": "6920aea8",
   "metadata": {},
   "source": [
    "# String"
   ]
  },
  {
   "cell_type": "markdown",
   "id": "84b29928",
   "metadata": {},
   "source": [
    "**What is string?**"
   ]
  },
  {
   "cell_type": "markdown",
   "id": "d0c26583",
   "metadata": {},
   "source": [
    "**String is a collection of characters**"
   ]
  },
  {
   "cell_type": "code",
   "execution_count": 2,
   "id": "a5cb4e65",
   "metadata": {},
   "outputs": [
    {
     "name": "stdout",
     "output_type": "stream",
     "text": [
      " Data type : <class 'str'> \n",
      " Numbers of Characters : 17\n"
     ]
    }
   ],
   "source": [
    "# Initiate a variable with string as input\n",
    "\n",
    "Ali = \"Hi my name is Ali\"\n",
    "\n",
    "print(f\" Data type : {type(Ali)} \\n Numbers of Characters : {len(Ali)}\")"
   ]
  },
  {
   "cell_type": "code",
   "execution_count": 3,
   "id": "04014770",
   "metadata": {},
   "outputs": [
    {
     "name": "stdout",
     "output_type": "stream",
     "text": [
      "Character at Position \" position \" is : \n"
     ]
    }
   ],
   "source": [
    "# String Indexing\n",
    "\n",
    "position = 5\n",
    "print(f\"Character at Position \\\" position \\\" is :{Ali[position]}\")"
   ]
  },
  {
   "cell_type": "code",
   "execution_count": 10,
   "id": "1ed70415",
   "metadata": {},
   "outputs": [
    {
     "name": "stdout",
     "output_type": "stream",
     "text": [
      "Data type : <class 'str'> \n",
      " Numbers of Character : 19\n",
      "Character at Position \" position\" is : n\n"
     ]
    }
   ],
   "source": [
    "# Initiate a variable string as input \n",
    "\n",
    "Ahmad = \"Hi my name is Ahmad\"\n",
    "\n",
    "print(f\"Data type : {type(Ahmad)} \\n Numbers of Character : {len(Ahmad)}\")\n",
    "\n",
    "# String Indexing\n",
    "\n",
    "position = 6\n",
    "print(f\"Character at Position \\\" position\\\" is : {Ahmad[position]}\")"
   ]
  },
  {
   "cell_type": "markdown",
   "id": "ac26a22b",
   "metadata": {},
   "source": [
    "# LOOPS"
   ]
  },
  {
   "cell_type": "markdown",
   "id": "1b657018",
   "metadata": {},
   "source": [
    "## For loops"
   ]
  },
  {
   "cell_type": "code",
   "execution_count": 2,
   "id": "70a0ab81",
   "metadata": {},
   "outputs": [
    {
     "name": "stdout",
     "output_type": "stream",
     "text": [
      "H\n",
      "i\n",
      " \n",
      "G\n",
      "e\n",
      "t\n",
      " \n",
      "M\n",
      "e\n",
      " \n",
      "A\n",
      " \n",
      "B\n",
      "u\n",
      "r\n",
      "g\n",
      "e\n",
      "r\n"
     ]
    }
   ],
   "source": [
    "st = \"Hi Get Me A Burger\"\n",
    "for I in st:\n",
    "    print(I)"
   ]
  },
  {
   "cell_type": "markdown",
   "id": "df2347cf",
   "metadata": {},
   "source": [
    "# Exercise"
   ]
  },
  {
   "cell_type": "code",
   "execution_count": 14,
   "id": "76864ff1",
   "metadata": {},
   "outputs": [],
   "source": [
    "# Hey there you are a programmer at the natipna; investigations and you got a sipher\n",
    "\n",
    "\n",
    "sipher = \"75jxc5x1x2kh75h\"\n",
    "decripter = {\"7\":\"G\",\n",
    "            \"5\":\"E\",\n",
    "            \"j\":\"T\",\n",
    "            \"x\":\" \",\n",
    "            \"c\":\"M\",\n",
    "            \"1\":\"A\",\n",
    "            \"2\":\"B\",\n",
    "            \"k\":\"U\",\n",
    "            \"h\":\"R\"}\n",
    "decripted_message = []\n",
    "for I in sipher:\n",
    "    decripted_message.append(decripter[I])"
   ]
  },
  {
   "cell_type": "code",
   "execution_count": 15,
   "id": "0a59d9e3",
   "metadata": {},
   "outputs": [
    {
     "data": {
      "text/plain": [
       "['G', 'E', 'T', ' ', 'M', 'E', ' ', 'A', ' ', 'B', 'U', 'R', 'G', 'E', 'R']"
      ]
     },
     "execution_count": 15,
     "metadata": {},
     "output_type": "execute_result"
    }
   ],
   "source": [
    "decripted_message"
   ]
  },
  {
   "cell_type": "markdown",
   "id": "34afa6a0",
   "metadata": {},
   "source": [
    "# Exercise"
   ]
  },
  {
   "cell_type": "code",
   "execution_count": 2,
   "id": "750fd840",
   "metadata": {},
   "outputs": [],
   "source": [
    "# You have a string\n",
    "str = \"I am Ashtar I am a data_scientist\"\n",
    "# Code a for loop that iters through the string above and append it to sparser\n",
    "sparser = []\n",
    "\n",
    "str = \"I am Ashtar I am a data_scientist\"\n",
    "for I in str:\n",
    "   sparser.append(I)"
   ]
  },
  {
   "cell_type": "code",
   "execution_count": 3,
   "id": "91d30188",
   "metadata": {},
   "outputs": [
    {
     "data": {
      "text/plain": [
       "['I',\n",
       " ' ',\n",
       " 'a',\n",
       " 'm',\n",
       " ' ',\n",
       " 'A',\n",
       " 's',\n",
       " 'h',\n",
       " 't',\n",
       " 'a',\n",
       " 'r',\n",
       " ' ',\n",
       " 'I',\n",
       " ' ',\n",
       " 'a',\n",
       " 'm',\n",
       " ' ',\n",
       " 'a',\n",
       " ' ',\n",
       " 'd',\n",
       " 'a',\n",
       " 't',\n",
       " 'a',\n",
       " '_',\n",
       " 's',\n",
       " 'c',\n",
       " 'i',\n",
       " 'e',\n",
       " 'n',\n",
       " 't',\n",
       " 'i',\n",
       " 's',\n",
       " 't']"
      ]
     },
     "execution_count": 3,
     "metadata": {},
     "output_type": "execute_result"
    }
   ],
   "source": [
    "sparser"
   ]
  },
  {
   "cell_type": "code",
   "execution_count": 4,
   "id": "f01ae520",
   "metadata": {},
   "outputs": [
    {
     "data": {
      "text/plain": [
       "list"
      ]
     },
     "execution_count": 4,
     "metadata": {},
     "output_type": "execute_result"
    }
   ],
   "source": [
    "type(sparser)"
   ]
  },
  {
   "cell_type": "code",
   "execution_count": 17,
   "id": "2a45f98f",
   "metadata": {},
   "outputs": [
    {
     "data": {
      "text/plain": [
       "'\\nwe have to find the starting and ending position of good and then slice it out\\n\\ng is at position 11\\nand the last character\"d\" is at position 14\\n\\nthe slice will be as follows\\n\\nstr_1[11:14]\\n\\nremember we have to subract 1 in the position of first character or else it wont print the last character\\n'"
      ]
     },
     "execution_count": 17,
     "metadata": {},
     "output_type": "execute_result"
    }
   ],
   "source": [
    "str_1 = \"she is a good girl\"\n",
    "#sliceing \"good\" out of the string\n",
    "\"\"\"\n",
    "we have to find the starting and ending position of good and then slice it out\n",
    "\n",
    "g is at position 11\n",
    "and the last character\"d\" is at position 14\n",
    "\n",
    "the slice will be as follows\n",
    "\n",
    "str_1[11:14]\n",
    "\n",
    "remember we have to subract 1 in the position of first character or else it wont print the last character\n",
    "\"\"\"\n"
   ]
  },
  {
   "cell_type": "markdown",
   "id": "43d13596",
   "metadata": {},
   "source": [
    "# Exercise"
   ]
  },
  {
   "cell_type": "code",
   "execution_count": 18,
   "id": "73b498f7",
   "metadata": {},
   "outputs": [
    {
     "data": {
      "text/plain": [
       "'good'"
      ]
     },
     "execution_count": 18,
     "metadata": {},
     "output_type": "execute_result"
    }
   ],
   "source": [
    "str_1[9:13]"
   ]
  },
  {
   "cell_type": "code",
   "execution_count": 19,
   "id": "4faeb986",
   "metadata": {},
   "outputs": [
    {
     "data": {
      "text/plain": [
       "'she is'"
      ]
     },
     "execution_count": 19,
     "metadata": {},
     "output_type": "execute_result"
    }
   ],
   "source": [
    "# slice out fatima from the string above \n",
    "str_1[0:6]"
   ]
  },
  {
   "cell_type": "code",
   "execution_count": 20,
   "id": "46b490ad",
   "metadata": {},
   "outputs": [
    {
     "data": {
      "text/plain": [
       "'computer student'"
      ]
     },
     "execution_count": 20,
     "metadata": {},
     "output_type": "execute_result"
    }
   ],
   "source": [
    "str_2=\"I am a computer student\"\n",
    "\n",
    "\n",
    "str_2[7:23]"
   ]
  },
  {
   "cell_type": "code",
   "execution_count": 27,
   "id": "165edda7",
   "metadata": {},
   "outputs": [
    {
     "data": {
      "text/plain": [
       "'LGS Lahore'"
      ]
     },
     "execution_count": 27,
     "metadata": {},
     "output_type": "execute_result"
    }
   ],
   "source": [
    "str_3=\"I study at LGS Lahore\"\n",
    "\n",
    "str_3[11:23]"
   ]
  },
  {
   "cell_type": "code",
   "execution_count": 23,
   "id": "208b113e",
   "metadata": {},
   "outputs": [
    {
     "data": {
      "text/plain": [
       "'lahore'"
      ]
     },
     "execution_count": 23,
     "metadata": {},
     "output_type": "execute_result"
    }
   ],
   "source": [
    "str_4=\"I live in lahore\"\n",
    "\n",
    "str_4[10:16]"
   ]
  },
  {
   "cell_type": "code",
   "execution_count": 24,
   "id": "ff6cfe00",
   "metadata": {},
   "outputs": [],
   "source": [
    "student = \"hadi\""
   ]
  },
  {
   "cell_type": "code",
   "execution_count": 26,
   "id": "5fb0e7d3",
   "metadata": {},
   "outputs": [
    {
     "data": {
      "text/plain": [
       "'a'"
      ]
     },
     "execution_count": 26,
     "metadata": {},
     "output_type": "execute_result"
    }
   ],
   "source": [
    "student[1]"
   ]
  },
  {
   "cell_type": "code",
   "execution_count": 30,
   "id": "60926dbc",
   "metadata": {},
   "outputs": [
    {
     "data": {
      "text/plain": [
       "'ad'"
      ]
     },
     "execution_count": 30,
     "metadata": {},
     "output_type": "execute_result"
    }
   ],
   "source": [
    "student[1:3]"
   ]
  },
  {
   "cell_type": "code",
   "execution_count": null,
   "id": "e3c9748c",
   "metadata": {},
   "outputs": [],
   "source": []
  }
 ],
 "metadata": {
  "kernelspec": {
   "display_name": "Python 3 (ipykernel)",
   "language": "python",
   "name": "python3"
  },
  "language_info": {
   "codemirror_mode": {
    "name": "ipython",
    "version": 3
   },
   "file_extension": ".py",
   "mimetype": "text/x-python",
   "name": "python",
   "nbconvert_exporter": "python",
   "pygments_lexer": "ipython3",
   "version": "3.10.8"
  }
 },
 "nbformat": 4,
 "nbformat_minor": 5
}
