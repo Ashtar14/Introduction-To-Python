{
 "cells": [
  {
   "cell_type": "markdown",
   "id": "bad7713d",
   "metadata": {},
   "source": [
    "# Introduction To Python"
   ]
  },
  {
   "cell_type": "markdown",
   "id": "5a44feba",
   "metadata": {},
   "source": [
    "## Questions"
   ]
  },
  {
   "cell_type": "markdown",
   "id": "cf311580",
   "metadata": {},
   "source": [
    "**What is a programming language?**"
   ]
  },
  {
   "cell_type": "markdown",
   "id": "a5a4241e",
   "metadata": {},
   "source": [
    "Programming language is used to communicate with the computer"
   ]
  },
  {
   "cell_type": "markdown",
   "id": "32879ae4",
   "metadata": {},
   "source": [
    "**What is an IDE?**"
   ]
  },
  {
   "cell_type": "markdown",
   "id": "4f2aea70",
   "metadata": {},
   "source": [
    "IDE stands for interactive development environment.It provides an environment to develop programs"
   ]
  },
  {
   "cell_type": "markdown",
   "id": "0f8eb28e",
   "metadata": {},
   "source": [
    "**What IDE we are using?**"
   ]
  },
  {
   "cell_type": "markdown",
   "id": "8292f4cc",
   "metadata": {},
   "source": [
    "We are using jupyter notebook"
   ]
  },
  {
   "cell_type": "markdown",
   "id": "63b101ee",
   "metadata": {},
   "source": [
    "**What is a compiler and interpriter?**"
   ]
  },
  {
   "cell_type": "markdown",
   "id": "e65f11ab",
   "metadata": {},
   "source": [
    "A compiler is a translator which translate the whole program at once and a interpriter is a translator which translate one line of code at once"
   ]
  },
  {
   "cell_type": "markdown",
   "id": "8b46d2b4",
   "metadata": {},
   "source": [
    "## My first code"
   ]
  },
  {
   "cell_type": "code",
   "execution_count": 5,
   "id": "3986a1a0",
   "metadata": {},
   "outputs": [
    {
     "name": "stdout",
     "output_type": "stream",
     "text": [
      "Hello World\n"
     ]
    }
   ],
   "source": [
    "print(\"Hello World\")"
   ]
  },
  {
   "cell_type": "markdown",
   "id": "158516d7",
   "metadata": {},
   "source": [
    "# Different types of Data type"
   ]
  },
  {
   "cell_type": "markdown",
   "id": "aa2941dd",
   "metadata": {},
   "source": [
    "**What are data types?**"
   ]
  },
  {
   "cell_type": "markdown",
   "id": "2eb397c7",
   "metadata": {},
   "source": [
    "Data types are the catagories of knowledge"
   ]
  },
  {
   "cell_type": "markdown",
   "id": "d88f1e85",
   "metadata": {},
   "source": [
    "**What is knowledge?**"
   ]
  },
  {
   "cell_type": "markdown",
   "id": "15e0c530",
   "metadata": {},
   "source": [
    "Data input to the computer is knowledge for it.And it divides it into different catagories"
   ]
  },
  {
   "cell_type": "markdown",
   "id": "8b870962",
   "metadata": {},
   "source": [
    "**Name the Data type in Python?**"
   ]
  },
  {
   "cell_type": "markdown",
   "id": "64564cd1",
   "metadata": {},
   "source": [
    "Int,Float\n",
    "\n",
    "Str\n",
    "\n",
    "List,tuple\n",
    "\n",
    "dict\n",
    "\n",
    "bool\n"
   ]
  },
  {
   "cell_type": "markdown",
   "id": "6de7f01f",
   "metadata": {},
   "source": [
    "# Shortcut Keys"
   ]
  },
  {
   "cell_type": "markdown",
   "id": "3be5fd1e",
   "metadata": {},
   "source": [
    ". **Shortcut for Markdown is esc+m**\n",
    "\n",
    ". **Shortcut for Code is esc+y**\n",
    "\n",
    ".**Shortcut for finding specific code**"
   ]
  },
  {
   "cell_type": "markdown",
   "id": "e159c057",
   "metadata": {},
   "source": [
    "# ARITHEMETIC OPERATIONS"
   ]
  },
  {
   "cell_type": "code",
   "execution_count": 1,
   "id": "1662df34",
   "metadata": {},
   "outputs": [
    {
     "data": {
      "text/plain": [
       "4"
      ]
     },
     "execution_count": 1,
     "metadata": {},
     "output_type": "execute_result"
    }
   ],
   "source": [
    "# SUM\n",
    "2+2"
   ]
  },
  {
   "cell_type": "code",
   "execution_count": 2,
   "id": "600d55a5",
   "metadata": {},
   "outputs": [
    {
     "data": {
      "text/plain": [
       "2"
      ]
     },
     "execution_count": 2,
     "metadata": {},
     "output_type": "execute_result"
    }
   ],
   "source": [
    "# SUBTRACTION\n",
    "4-2"
   ]
  },
  {
   "cell_type": "code",
   "execution_count": 3,
   "id": "2d69b0a3",
   "metadata": {},
   "outputs": [
    {
     "data": {
      "text/plain": [
       "4"
      ]
     },
     "execution_count": 3,
     "metadata": {},
     "output_type": "execute_result"
    }
   ],
   "source": [
    "# Multiplication\n",
    "2*2"
   ]
  },
  {
   "cell_type": "code",
   "execution_count": 4,
   "id": "b9f11547",
   "metadata": {},
   "outputs": [
    {
     "data": {
      "text/plain": [
       "2.0"
      ]
     },
     "execution_count": 4,
     "metadata": {},
     "output_type": "execute_result"
    }
   ],
   "source": [
    "# Divisions\n",
    "4/2"
   ]
  },
  {
   "cell_type": "code",
   "execution_count": 6,
   "id": "69e03ecf",
   "metadata": {},
   "outputs": [
    {
     "data": {
      "text/plain": [
       "6"
      ]
     },
     "execution_count": 6,
     "metadata": {},
     "output_type": "execute_result"
    }
   ],
   "source": [
    "# Floor Division\n",
    "13//2"
   ]
  },
  {
   "cell_type": "code",
   "execution_count": 8,
   "id": "44b9b072",
   "metadata": {},
   "outputs": [
    {
     "data": {
      "text/plain": [
       "1"
      ]
     },
     "execution_count": 8,
     "metadata": {},
     "output_type": "execute_result"
    }
   ],
   "source": [
    "# REMAINDER\n",
    "13%2"
   ]
  },
  {
   "cell_type": "code",
   "execution_count": 1,
   "id": "6cc32372",
   "metadata": {},
   "outputs": [
    {
     "data": {
      "text/plain": [
       "25"
      ]
     },
     "execution_count": 1,
     "metadata": {},
     "output_type": "execute_result"
    }
   ],
   "source": [
    "# EXPONENT\n",
    "5**2"
   ]
  },
  {
   "cell_type": "markdown",
   "id": "6191683c",
   "metadata": {},
   "source": [
    "## COMMENTS"
   ]
  },
  {
   "cell_type": "code",
   "execution_count": 3,
   "id": "40f34d83",
   "metadata": {},
   "outputs": [
    {
     "data": {
      "text/plain": [
       "'\\nyou need to use three comas\\nthis way you can add multiple lines of comments \\nthese are also used to docstring in function\\n'"
      ]
     },
     "execution_count": 3,
     "metadata": {},
     "output_type": "execute_result"
    }
   ],
   "source": [
    "#hash is used to add comments\n",
    "# but it wont add multiple peras of comment if you want to add multiples\n",
    "\"\"\"\n",
    "you need to use three comas\n",
    "this way you can add multiple lines of comments \n",
    "these are also used to docstring in function\n",
    "\"\"\""
   ]
  },
  {
   "cell_type": "markdown",
   "id": "f84f6847",
   "metadata": {},
   "source": [
    "## VARIABLES"
   ]
  },
  {
   "cell_type": "code",
   "execution_count": 2,
   "id": "8f7b423b",
   "metadata": {},
   "outputs": [],
   "source": [
    "student_name=\"Ashtar\""
   ]
  },
  {
   "cell_type": "markdown",
   "id": "1d86cdb2",
   "metadata": {},
   "source": [
    "**=** is assignment operator"
   ]
  },
  {
   "cell_type": "code",
   "execution_count": 3,
   "id": "195d2cdd",
   "metadata": {},
   "outputs": [
    {
     "data": {
      "text/plain": [
       "'Ashtar'"
      ]
     },
     "execution_count": 3,
     "metadata": {},
     "output_type": "execute_result"
    }
   ],
   "source": [
    "student_name"
   ]
  },
  {
   "cell_type": "markdown",
   "id": "1a42beb6",
   "metadata": {},
   "source": [
    "**What is a Student name?**"
   ]
  },
  {
   "cell_type": "markdown",
   "id": "a801e7d7",
   "metadata": {},
   "source": [
    "Student name is a variable pointing towards Ashtar"
   ]
  },
  {
   "cell_type": "markdown",
   "id": "4a2e6eae",
   "metadata": {},
   "source": [
    "## FUNCTION"
   ]
  },
  {
   "cell_type": "markdown",
   "id": "b9677452",
   "metadata": {},
   "source": [
    "Function is a code that execute a specific task and does it well|"
   ]
  },
  {
   "cell_type": "markdown",
   "id": "062f9fba",
   "metadata": {},
   "source": [
    "## PRINT FUNCTION"
   ]
  },
  {
   "cell_type": "markdown",
   "id": "19405535",
   "metadata": {},
   "source": [
    "Now we are going to use print function to print multiple variables at a time"
   ]
  },
  {
   "cell_type": "code",
   "execution_count": 4,
   "id": "36ac65e5",
   "metadata": {},
   "outputs": [
    {
     "name": "stdout",
     "output_type": "stream",
     "text": [
      "Hello World\n"
     ]
    }
   ],
   "source": [
    "print(\"Hello World\")"
   ]
  },
  {
   "cell_type": "code",
   "execution_count": 25,
   "id": "b0bb1711",
   "metadata": {},
   "outputs": [
    {
     "name": "stdout",
     "output_type": "stream",
     "text": [
      "Ashtar 14 2008\n"
     ]
    }
   ],
   "source": [
    "# Initating variables\n",
    "student_name=\"Ashtar\"\n",
    "age=\"14\"\n",
    "year=\"2008\"\n",
    "# print the variable together\n",
    "print(student_name,age,year)"
   ]
  },
  {
   "cell_type": "markdown",
   "id": "762a8198",
   "metadata": {},
   "source": [
    "**What is print?**"
   ]
  },
  {
   "cell_type": "markdown",
   "id": "5b26ca65",
   "metadata": {},
   "source": [
    "**Print is a function and input to it are argument**"
   ]
  },
  {
   "cell_type": "markdown",
   "id": "9d99afe2",
   "metadata": {},
   "source": [
    "# Using Sep Argument"
   ]
  },
  {
   "cell_type": "code",
   "execution_count": 26,
   "id": "1c88dcca",
   "metadata": {},
   "outputs": [
    {
     "name": "stdout",
     "output_type": "stream",
     "text": [
      "Ashtar age is 14\n"
     ]
    }
   ],
   "source": [
    "print(student_name,age,sep=\" age is \")"
   ]
  },
  {
   "cell_type": "markdown",
   "id": "986e3973",
   "metadata": {},
   "source": [
    "# USING END ARGUEMENT"
   ]
  },
  {
   "cell_type": "code",
   "execution_count": 27,
   "id": "2e010c99",
   "metadata": {},
   "outputs": [
    {
     "name": "stdout",
     "output_type": "stream",
     "text": [
      "Ashtar\n",
      "14\n",
      "2008\n"
     ]
    }
   ],
   "source": [
    "# Without end arguement\n",
    "print(student_name)\n",
    "print(age)\n",
    "print(year)"
   ]
  },
  {
   "cell_type": "code",
   "execution_count": 29,
   "id": "ada03af7",
   "metadata": {},
   "outputs": [
    {
     "name": "stdout",
     "output_type": "stream",
     "text": [
      "Ashtar 14 2008\n"
     ]
    }
   ],
   "source": [
    "# with end arguement\n",
    "print(student_name,end=\" \")\n",
    "print(age,end=\" \")\n",
    "print(year)"
   ]
  },
  {
   "cell_type": "markdown",
   "id": "7a6e2b09",
   "metadata": {},
   "source": [
    "# Help()"
   ]
  },
  {
   "cell_type": "code",
   "execution_count": 19,
   "id": "5c96cf0b",
   "metadata": {},
   "outputs": [
    {
     "name": "stdout",
     "output_type": "stream",
     "text": [
      "Help on built-in function print in module builtins:\n",
      "\n",
      "print(...)\n",
      "    print(value, ..., sep=' ', end='\\n', file=sys.stdout, flush=False)\n",
      "    \n",
      "    Prints the values to a stream, or to sys.stdout by default.\n",
      "    Optional keyword arguments:\n",
      "    file:  a file-like object (stream); defaults to the current sys.stdout.\n",
      "    sep:   string inserted between values, default a space.\n",
      "    end:   string appended after the last value, default a newline.\n",
      "    flush: whether to forcibly flush the stream.\n",
      "\n"
     ]
    }
   ],
   "source": [
    "help(print)"
   ]
  },
  {
   "cell_type": "markdown",
   "id": "dfa2d57c",
   "metadata": {},
   "source": [
    "# Def"
   ]
  },
  {
   "cell_type": "code",
   "execution_count": 31,
   "id": "1b3c740a",
   "metadata": {},
   "outputs": [],
   "source": [
    "def sum_1(a,b):\n",
    "    \"\"\"\n",
    "    It takes two numbers and return their sum\n",
    "    \n",
    "    \"\"\"\n",
    "    return(a+b)"
   ]
  },
  {
   "cell_type": "code",
   "execution_count": 35,
   "id": "5abe8344",
   "metadata": {},
   "outputs": [],
   "source": [
    "?sum_1"
   ]
  },
  {
   "cell_type": "code",
   "execution_count": 36,
   "id": "32807472",
   "metadata": {},
   "outputs": [
    {
     "data": {
      "text/plain": [
       "5"
      ]
     },
     "execution_count": 36,
     "metadata": {},
     "output_type": "execute_result"
    }
   ],
   "source": [
    "sum_1(2,3)"
   ]
  },
  {
   "cell_type": "markdown",
   "id": "14895ffc",
   "metadata": {},
   "source": [
    "# Time magic function"
   ]
  },
  {
   "cell_type": "code",
   "execution_count": 25,
   "id": "71f3d561",
   "metadata": {},
   "outputs": [
    {
     "name": "stdout",
     "output_type": "stream",
     "text": [
      "CPU times: total: 0 ns\n",
      "Wall time: 0 ns\n",
      "Hellooo\n"
     ]
    }
   ],
   "source": [
    "%time\n",
    "print(\"Hellooo\")"
   ]
  },
  {
   "cell_type": "code",
   "execution_count": 41,
   "id": "41adac74",
   "metadata": {},
   "outputs": [],
   "source": [
    "# %time for i in range(100000): print(\"bla bla\")"
   ]
  },
  {
   "cell_type": "markdown",
   "id": "842107fc",
   "metadata": {},
   "source": [
    "# VARIABLES"
   ]
  },
  {
   "cell_type": "code",
   "execution_count": 3,
   "id": "b4df8810",
   "metadata": {},
   "outputs": [],
   "source": [
    "student_name=\"Ashtar\""
   ]
  },
  {
   "cell_type": "markdown",
   "id": "8fe13892",
   "metadata": {},
   "source": [
    "## Checking the memory location/id"
   ]
  },
  {
   "cell_type": "code",
   "execution_count": 4,
   "id": "166fcc0e",
   "metadata": {},
   "outputs": [
    {
     "data": {
      "text/plain": [
       "1378533707568"
      ]
     },
     "execution_count": 4,
     "metadata": {},
     "output_type": "execute_result"
    }
   ],
   "source": [
    "id(student_name)"
   ]
  },
  {
   "cell_type": "code",
   "execution_count": 5,
   "id": "6f510871",
   "metadata": {},
   "outputs": [],
   "source": [
    "student=\"Ashtar\""
   ]
  },
  {
   "cell_type": "code",
   "execution_count": 6,
   "id": "93597f85",
   "metadata": {},
   "outputs": [
    {
     "data": {
      "text/plain": [
       "1378533707568"
      ]
     },
     "execution_count": 6,
     "metadata": {},
     "output_type": "execute_result"
    }
   ],
   "source": [
    "id(student)"
   ]
  },
  {
   "cell_type": "code",
   "execution_count": 24,
   "id": "8f4cae08",
   "metadata": {},
   "outputs": [],
   "source": [
    "sjh=\"Ashtar\""
   ]
  },
  {
   "cell_type": "code",
   "execution_count": 25,
   "id": "7c8c3e53",
   "metadata": {},
   "outputs": [
    {
     "data": {
      "text/plain": [
       "1378533707568"
      ]
     },
     "execution_count": 25,
     "metadata": {},
     "output_type": "execute_result"
    }
   ],
   "source": [
    "id(sjh)"
   ]
  },
  {
   "cell_type": "markdown",
   "id": "2713bf89",
   "metadata": {},
   "source": [
    "## Using Del Function"
   ]
  },
  {
   "cell_type": "code",
   "execution_count": 26,
   "id": "dcaf89bc",
   "metadata": {},
   "outputs": [],
   "source": [
    "del(sjh)"
   ]
  },
  {
   "cell_type": "code",
   "execution_count": 30,
   "id": "ad3e54ad",
   "metadata": {},
   "outputs": [],
   "source": [
    "#sjh"
   ]
  },
  {
   "cell_type": "markdown",
   "id": "f618b5dc",
   "metadata": {},
   "source": [
    "# Numbers"
   ]
  },
  {
   "cell_type": "markdown",
   "id": "e6033034",
   "metadata": {},
   "source": [
    "## Complex numbers"
   ]
  },
  {
   "cell_type": "markdown",
   "id": "451c7faa",
   "metadata": {},
   "source": [
    "**What are complex numbers?**"
   ]
  },
  {
   "cell_type": "markdown",
   "id": "4c5bfb9c",
   "metadata": {},
   "source": [
    "**Complex numbers have real and imaginary parts**"
   ]
  },
  {
   "cell_type": "code",
   "execution_count": 4,
   "id": "618179a3",
   "metadata": {},
   "outputs": [],
   "source": [
    "# Initializing variables\n",
    "a = 1\n",
    "b = 2.3\n",
    "c = True\n",
    "d = complex(2,3)\n",
    "d = 2+3j"
   ]
  },
  {
   "cell_type": "markdown",
   "id": "d7439200",
   "metadata": {},
   "source": [
    "## Type functions"
   ]
  },
  {
   "cell_type": "code",
   "execution_count": 5,
   "id": "944c300f",
   "metadata": {},
   "outputs": [
    {
     "data": {
      "text/plain": [
       "int"
      ]
     },
     "execution_count": 5,
     "metadata": {},
     "output_type": "execute_result"
    }
   ],
   "source": [
    "type(a)"
   ]
  },
  {
   "cell_type": "code",
   "execution_count": 5,
   "id": "92567a96",
   "metadata": {},
   "outputs": [
    {
     "data": {
      "text/plain": [
       "float"
      ]
     },
     "execution_count": 5,
     "metadata": {},
     "output_type": "execute_result"
    }
   ],
   "source": [
    "type(b)"
   ]
  },
  {
   "cell_type": "code",
   "execution_count": 6,
   "id": "0aa724f8",
   "metadata": {},
   "outputs": [
    {
     "data": {
      "text/plain": [
       "(bool, complex)"
      ]
     },
     "execution_count": 6,
     "metadata": {},
     "output_type": "execute_result"
    }
   ],
   "source": [
    "type(c),type(d)"
   ]
  },
  {
   "cell_type": "code",
   "execution_count": 7,
   "id": "72ccc51e",
   "metadata": {},
   "outputs": [
    {
     "name": "stdout",
     "output_type": "stream",
     "text": [
      "<class 'int'> -- <class 'float'> -- <class 'bool'> -- <class 'complex'>\n"
     ]
    }
   ],
   "source": [
    "print(type(a),type(b),type(c),type(d), sep=\" -- \")"
   ]
  },
  {
   "cell_type": "markdown",
   "id": "91308d1d",
   "metadata": {},
   "source": [
    "# Operators"
   ]
  },
  {
   "cell_type": "markdown",
   "id": "1be252dd",
   "metadata": {},
   "source": [
    "![](s.png)"
   ]
  },
  {
   "cell_type": "markdown",
   "id": "622efcbd",
   "metadata": {},
   "source": [
    "## 1) = \"Assignment operator\""
   ]
  },
  {
   "cell_type": "markdown",
   "id": "7c4283ab",
   "metadata": {},
   "source": [
    "**It is used to assign a value to a variable**"
   ]
  },
  {
   "cell_type": "code",
   "execution_count": 8,
   "id": "61e7a7b3",
   "metadata": {},
   "outputs": [],
   "source": [
    "Ashtar =\"Ashtar\""
   ]
  },
  {
   "cell_type": "markdown",
   "id": "e8b623ec",
   "metadata": {},
   "source": [
    "**here assign operator is used to assign a string \"Ashtar\" to \"Ashtar\"**"
   ]
  },
  {
   "cell_type": "markdown",
   "id": "0638abdf",
   "metadata": {},
   "source": [
    "## Logical operator"
   ]
  },
  {
   "cell_type": "markdown",
   "id": "24578b20",
   "metadata": {},
   "source": [
    "**These operators are used to ,ale decisions based on logic**"
   ]
  },
  {
   "cell_type": "markdown",
   "id": "8f5358f0",
   "metadata": {},
   "source": [
    "### 1) Greater Than>"
   ]
  },
  {
   "cell_type": "code",
   "execution_count": 9,
   "id": "6036e0ab",
   "metadata": {},
   "outputs": [],
   "source": [
    "a = 5 \n",
    "b = 3"
   ]
  },
  {
   "cell_type": "code",
   "execution_count": 10,
   "id": "4637f43a",
   "metadata": {},
   "outputs": [
    {
     "data": {
      "text/plain": [
       "True"
      ]
     },
     "execution_count": 10,
     "metadata": {},
     "output_type": "execute_result"
    }
   ],
   "source": [
    "a>b"
   ]
  },
  {
   "cell_type": "code",
   "execution_count": 11,
   "id": "e55302e1",
   "metadata": {},
   "outputs": [
    {
     "data": {
      "text/plain": [
       "False"
      ]
     },
     "execution_count": 11,
     "metadata": {},
     "output_type": "execute_result"
    }
   ],
   "source": [
    "b>a"
   ]
  },
  {
   "cell_type": "markdown",
   "id": "4b6d2b3f",
   "metadata": {},
   "source": [
    "### 2) Less Than<"
   ]
  },
  {
   "cell_type": "code",
   "execution_count": 12,
   "id": "079e24bd",
   "metadata": {},
   "outputs": [],
   "source": [
    "raheem = 20\n",
    "ali = 10"
   ]
  },
  {
   "cell_type": "code",
   "execution_count": 18,
   "id": "a6e72c7f",
   "metadata": {},
   "outputs": [
    {
     "name": "stdout",
     "output_type": "stream",
     "text": [
      "Ali is older than Raheem: False\n"
     ]
    }
   ],
   "source": [
    "print(f\"Ali is older than Raheem: {raheem<ali}\")"
   ]
  },
  {
   "cell_type": "markdown",
   "id": "81901317",
   "metadata": {},
   "source": [
    "**Above is the way of printing formaled string**"
   ]
  },
  {
   "cell_type": "markdown",
   "id": "3693a781",
   "metadata": {},
   "source": [
    "### 3)Greater than or equal to>="
   ]
  },
  {
   "cell_type": "markdown",
   "id": "e5c5a811",
   "metadata": {},
   "source": [
    "**greater than or equal to is evaluated true either if both are equal or one is greater than other**"
   ]
  },
  {
   "cell_type": "code",
   "execution_count": 22,
   "id": "c10c0705",
   "metadata": {},
   "outputs": [
    {
     "name": "stdout",
     "output_type": "stream",
     "text": [
      "Condition 1 : True\n",
      "Condition 2 : True\n",
      "Condition 3 : False\n"
     ]
    }
   ],
   "source": [
    "# Condition 1\n",
    "raheem = 20\n",
    "ali = 20\n",
    "print(f\"Condition 1 : {raheem >= ali}\")\n",
    "\n",
    "# Condition 2\n",
    "raheem = 20\n",
    "ali = 10\n",
    "print(f\"Condition 2 : {raheem>= ali}\")\n",
    "\n",
    "# Condition 3\n",
    "ali = 20\n",
    "raheem = 10\n",
    "print(f\"Condition 3 : {raheem>= ali}\")"
   ]
  },
  {
   "cell_type": "markdown",
   "id": "f07a6ef9",
   "metadata": {},
   "source": [
    "### Less than equal to<="
   ]
  },
  {
   "cell_type": "code",
   "execution_count": 23,
   "id": "43350a1d",
   "metadata": {},
   "outputs": [
    {
     "name": "stdout",
     "output_type": "stream",
     "text": [
      "Condition 1 : True\n",
      "Condition 2 : False\n",
      "condition 3 : True\n"
     ]
    }
   ],
   "source": [
    "# Condition 1\n",
    "raheem = 20\n",
    "ali = 20\n",
    "print(f\"Condition 1 : {raheem <= ali}\")\n",
    "\n",
    "# Condition 2\n",
    "raheen = 20\n",
    "ali = 10\n",
    "print(f\"Condition 2 : {raheem<= ali}\")\n",
    "\n",
    "# Condition 3\n",
    "ali = 20\n",
    "raheem = 10\n",
    "print(f\"condition 3 : {raheem<= ali}\")"
   ]
  },
  {
   "cell_type": "markdown",
   "id": "7e499da2",
   "metadata": {},
   "source": [
    "### Not equal !="
   ]
  },
  {
   "cell_type": "code",
   "execution_count": 25,
   "id": "1f805ea7",
   "metadata": {},
   "outputs": [
    {
     "name": "stdout",
     "output_type": "stream",
     "text": [
      " Ali and Raheem ages are not equal : True\n"
     ]
    }
   ],
   "source": [
    "Raheem = 20\n",
    "Ali = 10\n",
    "\n",
    "print(f\" Ali and Raheem ages are not equal : {Raheem != Ali}\")"
   ]
  },
  {
   "cell_type": "markdown",
   "id": "f61759aa",
   "metadata": {},
   "source": [
    "# Exercise"
   ]
  },
  {
   "cell_type": "code",
   "execution_count": 4,
   "id": "a20fbc28",
   "metadata": {},
   "outputs": [
    {
     "name": "stdout",
     "output_type": "stream",
     "text": [
      "Ali is smaller than Ajmal : True\n",
      "The greter one will be multiplied by 2 : 60\n"
     ]
    }
   ],
   "source": [
    "# Initiate two variables named Ali and Ajmal\n",
    "Ali = 20\n",
    "Ajmal = 30\n",
    "\n",
    "# Compare Both Variables to check whose age is greater\n",
    "print(f\"Ali is smaller than Ajmal : {Ali<= Ajmal}\")\n",
    "\n",
    "# The greater one should be multiplied by 2 and printed\n",
    "print(f\"The greter one will be multiplied by 2 : {Ajmal* 2}\")"
   ]
  },
  {
   "cell_type": "markdown",
   "id": "a4467e7b",
   "metadata": {},
   "source": [
    "### OR Logic operator"
   ]
  },
  {
   "cell_type": "code",
   "execution_count": 4,
   "id": "b7d7da54",
   "metadata": {},
   "outputs": [
    {
     "name": "stdout",
     "output_type": "stream",
     "text": [
      "Statement evaluates to : True\n",
      "Statement evaluates to : True\n"
     ]
    }
   ],
   "source": [
    "# Prints True if both the condition are met\n",
    "ali = 10\n",
    "hashim = 10\n",
    "\n",
    "print (f\"Statement evaluates to : {ali==hashim or ali==hashim}\")\n",
    "\n",
    "# Condition 2\n",
    "print(f\"Statement evaluates to : {ali==hashim or ali != hashim}\")"
   ]
  },
  {
   "cell_type": "markdown",
   "id": "961ec0af",
   "metadata": {},
   "source": [
    "### AND logical operator"
   ]
  },
  {
   "cell_type": "code",
   "execution_count": 7,
   "id": "97001fe3",
   "metadata": {},
   "outputs": [
    {
     "name": "stdout",
     "output_type": "stream",
     "text": [
      "Statement evaluates to : True\n",
      "Statement evaluates to : False\n"
     ]
    }
   ],
   "source": [
    "ali = 10\n",
    "hashim = 10\n",
    "# Condition 1\n",
    "print(f\"Statement evaluates to : {ali == hashim and ali == hashim}\")\n",
    "\n",
    "# Condition 2 \n",
    "print(f\"Statement evaluates to : {ali == hashim and ali != hashim}\")"
   ]
  },
  {
   "cell_type": "markdown",
   "id": "cc057568",
   "metadata": {},
   "source": [
    "### Not logical Operator"
   ]
  },
  {
   "cell_type": "code",
   "execution_count": 13,
   "id": "60a28906",
   "metadata": {},
   "outputs": [
    {
     "name": "stdout",
     "output_type": "stream",
     "text": [
      "Statement evaluate to : True\n",
      "Statement evaluate to : False\n"
     ]
    }
   ],
   "source": [
    "ali = 10\n",
    "hashim = 10\n",
    "# Condition 1\n",
    "print (f\"Statement evaluate to : {not (hashim != ali)}\")\n",
    "print(f\"Statement evaluate to : {not (hashim == ali)}\")"
   ]
  },
  {
   "cell_type": "markdown",
   "id": "6920aea8",
   "metadata": {},
   "source": [
    "# String"
   ]
  },
  {
   "cell_type": "markdown",
   "id": "84b29928",
   "metadata": {},
   "source": [
    "**What is string?**"
   ]
  },
  {
   "cell_type": "markdown",
   "id": "d0c26583",
   "metadata": {},
   "source": [
    "**String is a collection of characters**"
   ]
  },
  {
   "cell_type": "code",
   "execution_count": 2,
   "id": "a5cb4e65",
   "metadata": {},
   "outputs": [
    {
     "name": "stdout",
     "output_type": "stream",
     "text": [
      " Data type : <class 'str'> \n",
      " Numbers of Characters : 17\n"
     ]
    }
   ],
   "source": [
    "# Initiate a variable with string as input\n",
    "\n",
    "Ali = \"Hi my name is Ali\"\n",
    "\n",
    "print(f\" Data type : {type(Ali)} \\n Numbers of Characters : {len(Ali)}\")"
   ]
  },
  {
   "cell_type": "code",
   "execution_count": 3,
   "id": "04014770",
   "metadata": {},
   "outputs": [
    {
     "name": "stdout",
     "output_type": "stream",
     "text": [
      "Character at Position \" position \" is : \n"
     ]
    }
   ],
   "source": [
    "# String Indexing\n",
    "\n",
    "position = 5\n",
    "print(f\"Character at Position \\\" position \\\" is :{Ali[position]}\")"
   ]
  },
  {
   "cell_type": "code",
   "execution_count": 10,
   "id": "1ed70415",
   "metadata": {},
   "outputs": [
    {
     "name": "stdout",
     "output_type": "stream",
     "text": [
      "Data type : <class 'str'> \n",
      " Numbers of Character : 19\n",
      "Character at Position \" position\" is : n\n"
     ]
    }
   ],
   "source": [
    "# Initiate a variable string as input \n",
    "\n",
    "Ahmad = \"Hi my name is Ahmad\"\n",
    "\n",
    "print(f\"Data type : {type(Ahmad)} \\n Numbers of Character : {len(Ahmad)}\")\n",
    "\n",
    "# String Indexing\n",
    "\n",
    "position = 6\n",
    "print(f\"Character at Position \\\" position\\\" is : {Ahmad[position]}\")"
   ]
  },
  {
   "cell_type": "markdown",
   "id": "ac26a22b",
   "metadata": {},
   "source": [
    "# LOOPS"
   ]
  },
  {
   "cell_type": "markdown",
   "id": "1b657018",
   "metadata": {},
   "source": [
    "## For loops"
   ]
  },
  {
   "cell_type": "code",
   "execution_count": 2,
   "id": "70a0ab81",
   "metadata": {},
   "outputs": [
    {
     "name": "stdout",
     "output_type": "stream",
     "text": [
      "H\n",
      "i\n",
      " \n",
      "G\n",
      "e\n",
      "t\n",
      " \n",
      "M\n",
      "e\n",
      " \n",
      "A\n",
      " \n",
      "B\n",
      "u\n",
      "r\n",
      "g\n",
      "e\n",
      "r\n"
     ]
    }
   ],
   "source": [
    "st = \"Hi Get Me A Burger\"\n",
    "for I in st:\n",
    "    print(I)"
   ]
  },
  {
   "cell_type": "markdown",
   "id": "df2347cf",
   "metadata": {},
   "source": [
    "# Exercise"
   ]
  },
  {
   "cell_type": "code",
   "execution_count": 14,
   "id": "76864ff1",
   "metadata": {},
   "outputs": [],
   "source": [
    "# Hey there you are a programmer at the natipna; investigations and you got a sipher\n",
    "\n",
    "\n",
    "sipher = \"75jxc5x1x2kh75h\"\n",
    "decripter = {\"7\":\"G\",\n",
    "            \"5\":\"E\",\n",
    "            \"j\":\"T\",\n",
    "            \"x\":\" \",\n",
    "            \"c\":\"M\",\n",
    "            \"1\":\"A\",\n",
    "            \"2\":\"B\",\n",
    "            \"k\":\"U\",\n",
    "            \"h\":\"R\"}\n",
    "decripted_message = []\n",
    "for I in sipher:\n",
    "    decripted_message.append(decripter[I])"
   ]
  },
  {
   "cell_type": "code",
   "execution_count": 15,
   "id": "0a59d9e3",
   "metadata": {},
   "outputs": [
    {
     "data": {
      "text/plain": [
       "['G', 'E', 'T', ' ', 'M', 'E', ' ', 'A', ' ', 'B', 'U', 'R', 'G', 'E', 'R']"
      ]
     },
     "execution_count": 15,
     "metadata": {},
     "output_type": "execute_result"
    }
   ],
   "source": [
    "decripted_message"
   ]
  },
  {
   "cell_type": "markdown",
   "id": "34afa6a0",
   "metadata": {},
   "source": [
    "# Exercise"
   ]
  },
  {
   "cell_type": "code",
   "execution_count": 2,
   "id": "750fd840",
   "metadata": {},
   "outputs": [],
   "source": [
    "# You have a string\n",
    "str = \"I am Ashtar I am a data_scientist\"\n",
    "# Code a for loop that iters through the string above and append it to sparser\n",
    "sparser = []\n",
    "\n",
    "str = \"I am Ashtar I am a data_scientist\"\n",
    "for I in str:\n",
    "   sparser.append(I)"
   ]
  },
  {
   "cell_type": "code",
   "execution_count": 3,
   "id": "91d30188",
   "metadata": {},
   "outputs": [
    {
     "data": {
      "text/plain": [
       "['I',\n",
       " ' ',\n",
       " 'a',\n",
       " 'm',\n",
       " ' ',\n",
       " 'A',\n",
       " 's',\n",
       " 'h',\n",
       " 't',\n",
       " 'a',\n",
       " 'r',\n",
       " ' ',\n",
       " 'I',\n",
       " ' ',\n",
       " 'a',\n",
       " 'm',\n",
       " ' ',\n",
       " 'a',\n",
       " ' ',\n",
       " 'd',\n",
       " 'a',\n",
       " 't',\n",
       " 'a',\n",
       " '_',\n",
       " 's',\n",
       " 'c',\n",
       " 'i',\n",
       " 'e',\n",
       " 'n',\n",
       " 't',\n",
       " 'i',\n",
       " 's',\n",
       " 't']"
      ]
     },
     "execution_count": 3,
     "metadata": {},
     "output_type": "execute_result"
    }
   ],
   "source": [
    "sparser"
   ]
  },
  {
   "cell_type": "code",
   "execution_count": 4,
   "id": "f01ae520",
   "metadata": {},
   "outputs": [
    {
     "data": {
      "text/plain": [
       "list"
      ]
     },
     "execution_count": 4,
     "metadata": {},
     "output_type": "execute_result"
    }
   ],
   "source": [
    "type(sparser)"
   ]
  },
  {
   "cell_type": "code",
   "execution_count": 17,
   "id": "2a45f98f",
   "metadata": {},
   "outputs": [
    {
     "data": {
      "text/plain": [
       "'\\nwe have to find the starting and ending position of good and then slice it out\\n\\ng is at position 11\\nand the last character\"d\" is at position 14\\n\\nthe slice will be as follows\\n\\nstr_1[11:14]\\n\\nremember we have to subract 1 in the position of first character or else it wont print the last character\\n'"
      ]
     },
     "execution_count": 17,
     "metadata": {},
     "output_type": "execute_result"
    }
   ],
   "source": [
    "str_1 = \"she is a good girl\"\n",
    "#sliceing \"good\" out of the string\n",
    "\"\"\"\n",
    "we have to find the starting and ending position of good and then slice it out\n",
    "\n",
    "g is at position 11\n",
    "and the last character\"d\" is at position 14\n",
    "\n",
    "the slice will be as follows\n",
    "\n",
    "str_1[11:14]\n",
    "\n",
    "remember we have to subract 1 in the position of first character or else it wont print the last character\n",
    "\"\"\"\n"
   ]
  },
  {
   "cell_type": "markdown",
   "id": "43d13596",
   "metadata": {},
   "source": [
    "# Exercise"
   ]
  },
  {
   "cell_type": "code",
   "execution_count": 18,
   "id": "73b498f7",
   "metadata": {},
   "outputs": [
    {
     "data": {
      "text/plain": [
       "'good'"
      ]
     },
     "execution_count": 18,
     "metadata": {},
     "output_type": "execute_result"
    }
   ],
   "source": [
    "str_1[9:13]"
   ]
  },
  {
   "cell_type": "code",
   "execution_count": 19,
   "id": "4faeb986",
   "metadata": {},
   "outputs": [
    {
     "data": {
      "text/plain": [
       "'she is'"
      ]
     },
     "execution_count": 19,
     "metadata": {},
     "output_type": "execute_result"
    }
   ],
   "source": [
    "# slice out fatima from the string above \n",
    "str_1[0:6]"
   ]
  },
  {
   "cell_type": "code",
   "execution_count": 20,
   "id": "46b490ad",
   "metadata": {},
   "outputs": [
    {
     "data": {
      "text/plain": [
       "'computer student'"
      ]
     },
     "execution_count": 20,
     "metadata": {},
     "output_type": "execute_result"
    }
   ],
   "source": [
    "str_2=\"I am a computer student\"\n",
    "\n",
    "\n",
    "str_2[7:23]"
   ]
  },
  {
   "cell_type": "code",
   "execution_count": 27,
   "id": "165edda7",
   "metadata": {},
   "outputs": [
    {
     "data": {
      "text/plain": [
       "'LGS Lahore'"
      ]
     },
     "execution_count": 27,
     "metadata": {},
     "output_type": "execute_result"
    }
   ],
   "source": [
    "str_3=\"I study at LGS Lahore\"\n",
    "\n",
    "str_3[11:23]"
   ]
  },
  {
   "cell_type": "code",
   "execution_count": 23,
   "id": "208b113e",
   "metadata": {},
   "outputs": [
    {
     "data": {
      "text/plain": [
       "'lahore'"
      ]
     },
     "execution_count": 23,
     "metadata": {},
     "output_type": "execute_result"
    }
   ],
   "source": [
    "str_4=\"I live in lahore\"\n",
    "\n",
    "str_4[10:16]"
   ]
  },
  {
   "cell_type": "code",
   "execution_count": 24,
   "id": "ff6cfe00",
   "metadata": {},
   "outputs": [],
   "source": [
    "student = \"hadi\""
   ]
  },
  {
   "cell_type": "code",
   "execution_count": 26,
   "id": "5fb0e7d3",
   "metadata": {},
   "outputs": [
    {
     "data": {
      "text/plain": [
       "'a'"
      ]
     },
     "execution_count": 26,
     "metadata": {},
     "output_type": "execute_result"
    }
   ],
   "source": [
    "student[1]"
   ]
  },
  {
   "cell_type": "code",
   "execution_count": 30,
   "id": "60926dbc",
   "metadata": {},
   "outputs": [
    {
     "data": {
      "text/plain": [
       "'ad'"
      ]
     },
     "execution_count": 30,
     "metadata": {},
     "output_type": "execute_result"
    }
   ],
   "source": [
    "student[1:3]"
   ]
  },
  {
   "cell_type": "markdown",
   "id": "adae15d4",
   "metadata": {},
   "source": [
    "**What is a strip?**"
   ]
  },
  {
   "cell_type": "markdown",
   "id": "071d632b",
   "metadata": {},
   "source": [
    "**Strip removes spaces on the left and right side of the string**"
   ]
  },
  {
   "cell_type": "code",
   "execution_count": 21,
   "id": "e3c9748c",
   "metadata": {},
   "outputs": [
    {
     "name": "stdout",
     "output_type": "stream",
     "text": [
      "15--hola soy ashtar--HOLA SOY ASHTAR--Hola soy ashtar--Hola soy Ashtar--['Hola', 'soy', 'Ashtar']--Amigo soy Ashtar\n"
     ]
    }
   ],
   "source": [
    "# Initiate  a string\n",
    "str_1 = \"Hola soy Ashtar\"\n",
    "\n",
    "# len()\n",
    "a = len(str_1)\n",
    "\n",
    "# lower()\n",
    "b = str_1.lower()\n",
    "\n",
    "# upper()\n",
    "c = str_1.upper()\n",
    "\n",
    "# Capitalize()\n",
    "d = str_1.capitalize()\n",
    "\n",
    "#Strip()\n",
    "e = str_1.strip()\n",
    "\n",
    "# Split\n",
    "f = str_1.split(sep=\" \")\n",
    "\n",
    "# Replace\n",
    "g = str_1.replace(\"Hola\", \"Amigo\")\n",
    "\n",
    "print(a,b,c,d,e,f,g,sep=\"--\")"
   ]
  },
  {
   "cell_type": "markdown",
   "id": "ddcabfd9",
   "metadata": {},
   "source": [
    "## Using in to find characters in string"
   ]
  },
  {
   "cell_type": "code",
   "execution_count": 22,
   "id": "3dd704a3",
   "metadata": {},
   "outputs": [
    {
     "data": {
      "text/plain": [
       "True"
      ]
     },
     "execution_count": 22,
     "metadata": {},
     "output_type": "execute_result"
    }
   ],
   "source": [
    "\"h\" in str_1"
   ]
  },
  {
   "cell_type": "markdown",
   "id": "90fb20d5",
   "metadata": {},
   "source": [
    "**it returns True if h is present in the string str_1**"
   ]
  },
  {
   "cell_type": "markdown",
   "id": "42322a16",
   "metadata": {},
   "source": [
    "# List"
   ]
  },
  {
   "cell_type": "markdown",
   "id": "f393562f",
   "metadata": {},
   "source": [
    "**What is List?**"
   ]
  },
  {
   "cell_type": "markdown",
   "id": "05b64fe6",
   "metadata": {},
   "source": [
    "**List is a collection of data enclose in square brackets [1,\"Ashtar\",\"@\",2]**"
   ]
  },
  {
   "cell_type": "markdown",
   "id": "17a061b7",
   "metadata": {},
   "source": [
    "## Initiating a List"
   ]
  },
  {
   "cell_type": "code",
   "execution_count": 2,
   "id": "bcd53948",
   "metadata": {},
   "outputs": [],
   "source": [
    "list_1 = [1,\"Ashtar\",\"@\",2]"
   ]
  },
  {
   "cell_type": "markdown",
   "id": "13289998",
   "metadata": {},
   "source": [
    "## Accessing elements in a List"
   ]
  },
  {
   "cell_type": "code",
   "execution_count": 3,
   "id": "10761ea6",
   "metadata": {},
   "outputs": [
    {
     "name": "stdout",
     "output_type": "stream",
     "text": [
      "First: 1,Second: Ashtar\n"
     ]
    }
   ],
   "source": [
    "print(f\"First: {list_1[0]},Second: {list_1[1]}\")"
   ]
  },
  {
   "cell_type": "markdown",
   "id": "67c959e8",
   "metadata": {},
   "source": [
    "## List in List"
   ]
  },
  {
   "cell_type": "code",
   "execution_count": 4,
   "id": "b32fb603",
   "metadata": {},
   "outputs": [],
   "source": [
    "list_2 = [1,2,list_1]"
   ]
  },
  {
   "cell_type": "code",
   "execution_count": 5,
   "id": "e6210565",
   "metadata": {},
   "outputs": [
    {
     "name": "stdout",
     "output_type": "stream",
     "text": [
      "[1, 2, [1, 'Ashtar', '@', 2]]\n"
     ]
    }
   ],
   "source": [
    "print(list_2)"
   ]
  },
  {
   "cell_type": "markdown",
   "id": "bdf17597",
   "metadata": {},
   "source": [
    "## Accessing elements in a list within a list"
   ]
  },
  {
   "cell_type": "code",
   "execution_count": 6,
   "id": "af77f884",
   "metadata": {},
   "outputs": [
    {
     "data": {
      "text/plain": [
       "1"
      ]
     },
     "execution_count": 6,
     "metadata": {},
     "output_type": "execute_result"
    }
   ],
   "source": [
    "list_2[2][0]"
   ]
  },
  {
   "cell_type": "code",
   "execution_count": 1,
   "id": "36f623fc",
   "metadata": {},
   "outputs": [],
   "source": [
    "list_1 = [1,2,3,\"Salim\",\"hadi\"]"
   ]
  },
  {
   "cell_type": "markdown",
   "id": "a49e019f",
   "metadata": {},
   "source": [
    "## Append Function"
   ]
  },
  {
   "cell_type": "code",
   "execution_count": 2,
   "id": "ab4de98a",
   "metadata": {},
   "outputs": [
    {
     "name": "stdout",
     "output_type": "stream",
     "text": [
      "[1, 2, 3, 'Salim', 'hadi', 0]\n"
     ]
    }
   ],
   "source": [
    "# Append function in lists\n",
    "list_1.append(0)\n",
    "print(list_1)"
   ]
  },
  {
   "cell_type": "markdown",
   "id": "fbee4953",
   "metadata": {},
   "source": [
    "**Append function is used to add an element to enf of a list**\n",
    "\n",
    "**Function : function is a tool that is used to do something\n",
    "Here append function is used to add something in a list**"
   ]
  },
  {
   "cell_type": "code",
   "execution_count": 3,
   "id": "1faeea0a",
   "metadata": {},
   "outputs": [],
   "source": [
    "# Clear Function\n",
    "list_1.clear()"
   ]
  },
  {
   "cell_type": "markdown",
   "id": "d08d6a87",
   "metadata": {},
   "source": [
    "**Clear Function clears all elements in a list**"
   ]
  },
  {
   "cell_type": "code",
   "execution_count": 4,
   "id": "d0c49956",
   "metadata": {},
   "outputs": [
    {
     "data": {
      "text/plain": [
       "[]"
      ]
     },
     "execution_count": 4,
     "metadata": {},
     "output_type": "execute_result"
    }
   ],
   "source": [
    "list_1"
   ]
  },
  {
   "cell_type": "markdown",
   "id": "cb528027",
   "metadata": {},
   "source": [
    "## Shallow Copy"
   ]
  },
  {
   "cell_type": "code",
   "execution_count": 5,
   "id": "2666472c",
   "metadata": {},
   "outputs": [],
   "source": [
    "# Initiating list_1 again as all the elements are clear\n",
    "list_1 = [1,2,3,\"Salim\",\"hadi\"]"
   ]
  },
  {
   "cell_type": "code",
   "execution_count": 6,
   "id": "13f84d01",
   "metadata": {},
   "outputs": [],
   "source": [
    "# Copy function\n",
    "list_2 = list_1.copy()"
   ]
  },
  {
   "cell_type": "code",
   "execution_count": 7,
   "id": "04966d8a",
   "metadata": {},
   "outputs": [
    {
     "name": "stdout",
     "output_type": "stream",
     "text": [
      "[1, 2, 3, 'Salim', 'hadi']\n"
     ]
    }
   ],
   "source": [
    "print(list_2)"
   ]
  },
  {
   "cell_type": "code",
   "execution_count": 8,
   "id": "403c0cb3",
   "metadata": {},
   "outputs": [
    {
     "name": "stdout",
     "output_type": "stream",
     "text": [
      "[1, 2, 3, 'Salim', 'hadi']\n"
     ]
    }
   ],
   "source": [
    "print(list_1)"
   ]
  },
  {
   "cell_type": "code",
   "execution_count": 10,
   "id": "00e5c18d",
   "metadata": {},
   "outputs": [],
   "source": [
    "list_2.append(0)"
   ]
  },
  {
   "cell_type": "code",
   "execution_count": 11,
   "id": "d826d165",
   "metadata": {},
   "outputs": [
    {
     "name": "stdout",
     "output_type": "stream",
     "text": [
      "[1, 2, 3, 'Salim', 'hadi', 0, 0]\n"
     ]
    },
    {
     "data": {
      "text/plain": [
       "(None, [1, 2, 3, 'Salim', 'hadi'])"
      ]
     },
     "execution_count": 11,
     "metadata": {},
     "output_type": "execute_result"
    }
   ],
   "source": [
    "print(list_2),(list_1)"
   ]
  },
  {
   "cell_type": "markdown",
   "id": "2e43996e",
   "metadata": {},
   "source": [
    "**It Creates shalow copy of list**"
   ]
  },
  {
   "cell_type": "markdown",
   "id": "bcef434d",
   "metadata": {},
   "source": [
    "## Deep Copy"
   ]
  },
  {
   "cell_type": "code",
   "execution_count": 14,
   "id": "e1300fee",
   "metadata": {},
   "outputs": [
    {
     "name": "stdout",
     "output_type": "stream",
     "text": [
      "[1, 2, 3, 'Salim', 'hadi']\n"
     ]
    }
   ],
   "source": [
    "list_3 = list_1\n",
    "print(list_3)"
   ]
  },
  {
   "cell_type": "code",
   "execution_count": 15,
   "id": "9a58025c",
   "metadata": {},
   "outputs": [
    {
     "name": "stdout",
     "output_type": "stream",
     "text": [
      "[1, 2, 3, 'Salim', 'hadi']\n"
     ]
    }
   ],
   "source": [
    "print(list_1)"
   ]
  },
  {
   "cell_type": "code",
   "execution_count": 16,
   "id": "a606e146",
   "metadata": {},
   "outputs": [
    {
     "name": "stdout",
     "output_type": "stream",
     "text": [
      "[1, 2, 3, 'Salim', 'hadi', 0]\n"
     ]
    }
   ],
   "source": [
    "list_3.append(0)\n",
    "print(list_3)"
   ]
  },
  {
   "cell_type": "code",
   "execution_count": 17,
   "id": "8d004eb8",
   "metadata": {},
   "outputs": [
    {
     "name": "stdout",
     "output_type": "stream",
     "text": [
      "[1, 2, 3, 'Salim', 'hadi', 0]\n"
     ]
    }
   ],
   "source": [
    "print(list_1)"
   ]
  },
  {
   "cell_type": "markdown",
   "id": "04e2803a",
   "metadata": {},
   "source": [
    "**Wow this is called deep copy**"
   ]
  },
  {
   "cell_type": "code",
   "execution_count": 20,
   "id": "a22675a9",
   "metadata": {},
   "outputs": [
    {
     "data": {
      "text/plain": [
       "1"
      ]
     },
     "execution_count": 20,
     "metadata": {},
     "output_type": "execute_result"
    }
   ],
   "source": [
    "# Count Functions\n",
    "list_1.count(1)"
   ]
  },
  {
   "cell_type": "markdown",
   "id": "723c2bd5",
   "metadata": {},
   "source": [
    "## Count"
   ]
  },
  {
   "cell_type": "markdown",
   "id": "9c0cad95",
   "metadata": {},
   "source": [
    "**It will count how many times the argument occurs\n",
    "Argument : The input given to function is called an argument**"
   ]
  },
  {
   "cell_type": "code",
   "execution_count": 1,
   "id": "4ac01487",
   "metadata": {},
   "outputs": [
    {
     "data": {
      "text/plain": [
       "2"
      ]
     },
     "execution_count": 1,
     "metadata": {},
     "output_type": "execute_result"
    }
   ],
   "source": [
    "list_4 = [1,2,3,1]\n",
    "list_4.count(1)"
   ]
  },
  {
   "cell_type": "markdown",
   "id": "a6eda22c",
   "metadata": {},
   "source": [
    "**1 occurs 2 times**"
   ]
  },
  {
   "cell_type": "markdown",
   "id": "a18fb2d4",
   "metadata": {},
   "source": [
    "## Reverse"
   ]
  },
  {
   "cell_type": "code",
   "execution_count": 10,
   "id": "9ca299c7",
   "metadata": {},
   "outputs": [
    {
     "name": "stdout",
     "output_type": "stream",
     "text": [
      "[1, 3, 2, 1]\n"
     ]
    }
   ],
   "source": [
    "# Using reverse function of list\n",
    "list_4.reverse()\n",
    "print(list_4)"
   ]
  },
  {
   "cell_type": "markdown",
   "id": "39ba9bce",
   "metadata": {},
   "source": [
    "**It reverse the arrangment of elements in a list**"
   ]
  },
  {
   "cell_type": "markdown",
   "id": "8206f0da",
   "metadata": {},
   "source": [
    "## Pop function"
   ]
  },
  {
   "cell_type": "code",
   "execution_count": 11,
   "id": "cd60451c",
   "metadata": {},
   "outputs": [
    {
     "data": {
      "text/plain": [
       "1"
      ]
     },
     "execution_count": 11,
     "metadata": {},
     "output_type": "execute_result"
    }
   ],
   "source": [
    "# Using pop function\n",
    "list_4.pop(0)"
   ]
  },
  {
   "cell_type": "markdown",
   "id": "5f85fa5b",
   "metadata": {},
   "source": [
    "**It pops out the element at position given .pop(0) It will pop out element at position 0**"
   ]
  },
  {
   "cell_type": "code",
   "execution_count": 12,
   "id": "9d8304ce",
   "metadata": {},
   "outputs": [
    {
     "data": {
      "text/plain": [
       "[3, 2, 1]"
      ]
     },
     "execution_count": 12,
     "metadata": {},
     "output_type": "execute_result"
    }
   ],
   "source": [
    "list_4"
   ]
  },
  {
   "cell_type": "markdown",
   "id": "18bb2331",
   "metadata": {},
   "source": [
    "# Revising list within list"
   ]
  },
  {
   "cell_type": "code",
   "execution_count": 13,
   "id": "41467d5f",
   "metadata": {},
   "outputs": [
    {
     "data": {
      "text/plain": [
       "1"
      ]
     },
     "execution_count": 13,
     "metadata": {},
     "output_type": "execute_result"
    }
   ],
   "source": [
    "list_1 = [1,2,3]\n",
    "list_1[0]"
   ]
  },
  {
   "cell_type": "markdown",
   "id": "5fe3ab3d",
   "metadata": {},
   "source": [
    "# Exercise"
   ]
  },
  {
   "cell_type": "code",
   "execution_count": 15,
   "id": "9119741d",
   "metadata": {},
   "outputs": [
    {
     "data": {
      "text/plain": [
       "2"
      ]
     },
     "execution_count": 15,
     "metadata": {},
     "output_type": "execute_result"
    }
   ],
   "source": [
    "# Retrive second element of list_1\n",
    "list_1[1]"
   ]
  },
  {
   "cell_type": "markdown",
   "id": "2d170640",
   "metadata": {},
   "source": [
    "# List in List Revising"
   ]
  },
  {
   "cell_type": "code",
   "execution_count": 16,
   "id": "239a172c",
   "metadata": {},
   "outputs": [],
   "source": [
    "list_2 = [1,2,list_1]"
   ]
  },
  {
   "cell_type": "code",
   "execution_count": 17,
   "id": "51ccdb6c",
   "metadata": {},
   "outputs": [
    {
     "data": {
      "text/plain": [
       "[1, 2, [1, 2, 3]]"
      ]
     },
     "execution_count": 17,
     "metadata": {},
     "output_type": "execute_result"
    }
   ],
   "source": [
    "list_2"
   ]
  },
  {
   "cell_type": "code",
   "execution_count": 18,
   "id": "a1ee0425",
   "metadata": {},
   "outputs": [
    {
     "data": {
      "text/plain": [
       "1"
      ]
     },
     "execution_count": 18,
     "metadata": {},
     "output_type": "execute_result"
    }
   ],
   "source": [
    "list_2[2][0]"
   ]
  },
  {
   "cell_type": "markdown",
   "id": "78951e3d",
   "metadata": {},
   "source": [
    "# Exercise"
   ]
  },
  {
   "cell_type": "code",
   "execution_count": 21,
   "id": "3c6c5d0c",
   "metadata": {},
   "outputs": [
    {
     "data": {
      "text/plain": [
       "2"
      ]
     },
     "execution_count": 21,
     "metadata": {},
     "output_type": "execute_result"
    }
   ],
   "source": [
    "list_2[2][1]"
   ]
  },
  {
   "cell_type": "markdown",
   "id": "67b8494d",
   "metadata": {},
   "source": [
    "# Exercise"
   ]
  },
  {
   "cell_type": "code",
   "execution_count": 7,
   "id": "e1a7f4d2",
   "metadata": {},
   "outputs": [
    {
     "data": {
      "text/plain": [
       "2"
      ]
     },
     "execution_count": 7,
     "metadata": {},
     "output_type": "execute_result"
    }
   ],
   "source": [
    "# Print the last element of list_1 in list_2 using indexing\n",
    "\n",
    "list_2[2][3]"
   ]
  },
  {
   "cell_type": "markdown",
   "id": "7f639961",
   "metadata": {},
   "source": [
    "# list Indexing"
   ]
  },
  {
   "cell_type": "code",
   "execution_count": 23,
   "id": "419ab1c4",
   "metadata": {},
   "outputs": [
    {
     "data": {
      "text/plain": [
       "[2, 3]"
      ]
     },
     "execution_count": 23,
     "metadata": {},
     "output_type": "execute_result"
    }
   ],
   "source": [
    "list_1 = [1,2,3,4]\n",
    "list_1[1:3]"
   ]
  },
  {
   "cell_type": "markdown",
   "id": "d944a1f3",
   "metadata": {},
   "source": [
    "# Exercise"
   ]
  },
  {
   "cell_type": "code",
   "execution_count": 27,
   "id": "9ac63515",
   "metadata": {},
   "outputs": [
    {
     "data": {
      "text/plain": [
       "[3, 4]"
      ]
     },
     "execution_count": 27,
     "metadata": {},
     "output_type": "execute_result"
    }
   ],
   "source": [
    "# Slice out 2 to 4\n",
    "list_1[2:4]"
   ]
  },
  {
   "cell_type": "markdown",
   "id": "f4f4267b",
   "metadata": {},
   "source": [
    "# Min function"
   ]
  },
  {
   "cell_type": "code",
   "execution_count": 28,
   "id": "321ee4f0",
   "metadata": {},
   "outputs": [
    {
     "data": {
      "text/plain": [
       "1"
      ]
     },
     "execution_count": 28,
     "metadata": {},
     "output_type": "execute_result"
    }
   ],
   "source": [
    "# min function\n",
    "min(list_1)"
   ]
  },
  {
   "cell_type": "markdown",
   "id": "08ed8d8d",
   "metadata": {},
   "source": [
    "# Max function"
   ]
  },
  {
   "cell_type": "code",
   "execution_count": 29,
   "id": "e86e23c9",
   "metadata": {},
   "outputs": [
    {
     "data": {
      "text/plain": [
       "4"
      ]
     },
     "execution_count": 29,
     "metadata": {},
     "output_type": "execute_result"
    }
   ],
   "source": [
    "# Max function\n",
    "max(list_1)"
   ]
  },
  {
   "cell_type": "markdown",
   "id": "82969d00",
   "metadata": {},
   "source": [
    "# Sets"
   ]
  },
  {
   "cell_type": "markdown",
   "id": "c9cb3ada",
   "metadata": {},
   "source": [
    "**Initilize a set**"
   ]
  },
  {
   "cell_type": "code",
   "execution_count": 23,
   "id": "3c42c6b1",
   "metadata": {},
   "outputs": [],
   "source": [
    "set_1 = {1,2,3,4,5}"
   ]
  },
  {
   "cell_type": "markdown",
   "id": "288afc7c",
   "metadata": {},
   "source": [
    "**Set is a collection of data enclosed in flower brackets**"
   ]
  },
  {
   "cell_type": "markdown",
   "id": "b4352726",
   "metadata": {},
   "source": [
    "## Accesing elements in a Set"
   ]
  },
  {
   "cell_type": "code",
   "execution_count": 24,
   "id": "9d69f55d",
   "metadata": {},
   "outputs": [
    {
     "ename": "TypeError",
     "evalue": "'set' object is not subscriptable",
     "output_type": "error",
     "traceback": [
      "\u001b[1;31m---------------------------------------------------------------------------\u001b[0m",
      "\u001b[1;31mTypeError\u001b[0m                                 Traceback (most recent call last)",
      "Cell \u001b[1;32mIn[24], line 2\u001b[0m\n\u001b[0;32m      1\u001b[0m \u001b[38;5;66;03m# Position 0\u001b[39;00m\n\u001b[1;32m----> 2\u001b[0m \u001b[38;5;28mprint\u001b[39m(\u001b[43mset_1\u001b[49m\u001b[43m[\u001b[49m\u001b[38;5;241;43m0\u001b[39;49m\u001b[43m]\u001b[49m)\n\u001b[0;32m      4\u001b[0m \u001b[38;5;66;03m# Position 1\u001b[39;00m\n\u001b[0;32m      5\u001b[0m \u001b[38;5;28mprint\u001b[39m(set_1[\u001b[38;5;241m1\u001b[39m])\n",
      "\u001b[1;31mTypeError\u001b[0m: 'set' object is not subscriptable"
     ]
    }
   ],
   "source": [
    "# Position 0\n",
    "print(set_1[0])\n",
    "\n",
    "# Position 1\n",
    "print(set_1[1])\n",
    "\n",
    "# Position 2\n",
    "print(set_1[2])\n",
    "\n",
    "# Position 3\n",
    "print(set_1[3])\n",
    "\n",
    "# Position 4\n",
    "print(set_1[4])"
   ]
  },
  {
   "cell_type": "markdown",
   "id": "4e9776bb",
   "metadata": {},
   "source": [
    "## Using intersection function of sets"
   ]
  },
  {
   "cell_type": "code",
   "execution_count": 25,
   "id": "dcc16711",
   "metadata": {},
   "outputs": [],
   "source": [
    "set_2 = {2,3,6,7,8}"
   ]
  },
  {
   "cell_type": "code",
   "execution_count": 26,
   "id": "5763cb86",
   "metadata": {},
   "outputs": [
    {
     "data": {
      "text/plain": [
       "{2, 3}"
      ]
     },
     "execution_count": 26,
     "metadata": {},
     "output_type": "execute_result"
    }
   ],
   "source": [
    "set_1.intersection(set_2)"
   ]
  },
  {
   "cell_type": "markdown",
   "id": "26e92ade",
   "metadata": {},
   "source": [
    "## Using issubset function"
   ]
  },
  {
   "cell_type": "code",
   "execution_count": 28,
   "id": "0e2a032e",
   "metadata": {},
   "outputs": [
    {
     "data": {
      "text/plain": [
       "True"
      ]
     },
     "execution_count": 28,
     "metadata": {},
     "output_type": "execute_result"
    }
   ],
   "source": [
    "set_3 = {1,2}\n",
    "set_3.issubset(set_1)"
   ]
  },
  {
   "cell_type": "markdown",
   "id": "61de902f",
   "metadata": {},
   "source": [
    "## Function difference of the sets"
   ]
  },
  {
   "cell_type": "code",
   "execution_count": 29,
   "id": "0471528c",
   "metadata": {},
   "outputs": [
    {
     "data": {
      "text/plain": [
       "{3, 4, 5}"
      ]
     },
     "execution_count": 29,
     "metadata": {},
     "output_type": "execute_result"
    }
   ],
   "source": [
    "set_1.difference(set_3)"
   ]
  },
  {
   "cell_type": "markdown",
   "id": "7835f43d",
   "metadata": {},
   "source": [
    "# Exercise"
   ]
  },
  {
   "cell_type": "markdown",
   "id": "2efc353f",
   "metadata": {},
   "source": [
    "**You are working as a data scientist in a firm you got two sets of data of their purchases conducted on Tuesday and Wednesday**"
   ]
  },
  {
   "cell_type": "code",
   "execution_count": 31,
   "id": "f19f4d4f",
   "metadata": {},
   "outputs": [],
   "source": [
    "data_Tuesday = {\"Car\",\"Buldozer\",\"Milk\"}\n",
    "data_Wednesday = {\"Car\",\"Flowers\",\"Books\"}"
   ]
  },
  {
   "cell_type": "markdown",
   "id": "b2a3152d",
   "metadata": {},
   "source": [
    "Find the common prducts selled\n",
    "\n",
    "Find the unique products sold on Tuesday\n",
    "\n",
    "Find the unique products sold on Wednesday"
   ]
  },
  {
   "cell_type": "code",
   "execution_count": 33,
   "id": "cb1fe7bf",
   "metadata": {},
   "outputs": [
    {
     "data": {
      "text/plain": [
       "{'Car'}"
      ]
     },
     "execution_count": 33,
     "metadata": {},
     "output_type": "execute_result"
    }
   ],
   "source": [
    "data_Tuesday.intersection(data_Wednesday)"
   ]
  },
  {
   "cell_type": "code",
   "execution_count": 34,
   "id": "289e5824",
   "metadata": {},
   "outputs": [
    {
     "data": {
      "text/plain": [
       "{'Buldozer', 'Milk'}"
      ]
     },
     "execution_count": 34,
     "metadata": {},
     "output_type": "execute_result"
    }
   ],
   "source": [
    "data_Tuesday.difference(data_Wednesday)"
   ]
  },
  {
   "cell_type": "code",
   "execution_count": 35,
   "id": "d402d77d",
   "metadata": {},
   "outputs": [
    {
     "data": {
      "text/plain": [
       "{'Books', 'Flowers'}"
      ]
     },
     "execution_count": 35,
     "metadata": {},
     "output_type": "execute_result"
    }
   ],
   "source": [
    "data_Wednesday.difference(data_Tuesday)"
   ]
  },
  {
   "cell_type": "markdown",
   "id": "b890321a",
   "metadata": {},
   "source": [
    "# Dictionaries"
   ]
  },
  {
   "cell_type": "markdown",
   "id": "00e756bb",
   "metadata": {},
   "source": [
    "**Are dictionaries mutable or not?**"
   ]
  },
  {
   "cell_type": "markdown",
   "id": "9e481b44",
   "metadata": {},
   "source": [
    "**Dictionaries are mutable whereas strings are not mutable (means we can modify the elements)**"
   ]
  },
  {
   "cell_type": "code",
   "execution_count": 11,
   "id": "896a2eec",
   "metadata": {},
   "outputs": [],
   "source": [
    "# Dictionaries\n",
    "dict_1= {\n",
    "    \"ali\":2*3,\n",
    "    \"basit\":0,\n",
    "    \"salim\":1000,\n",
    "    \"hadi\":\"u\"\n",
    "}"
   ]
  },
  {
   "cell_type": "code",
   "execution_count": 12,
   "id": "dd188908",
   "metadata": {},
   "outputs": [
    {
     "data": {
      "text/plain": [
       "6"
      ]
     },
     "execution_count": 12,
     "metadata": {},
     "output_type": "execute_result"
    }
   ],
   "source": [
    "dict_1[\"ali\"]"
   ]
  },
  {
   "cell_type": "code",
   "execution_count": 13,
   "id": "50c8e73b",
   "metadata": {},
   "outputs": [
    {
     "data": {
      "text/plain": [
       "'u'"
      ]
     },
     "execution_count": 13,
     "metadata": {},
     "output_type": "execute_result"
    }
   ],
   "source": [
    "dict_1[\"hadi\"]"
   ]
  },
  {
   "cell_type": "code",
   "execution_count": 15,
   "id": "ad8132c7",
   "metadata": {},
   "outputs": [
    {
     "data": {
      "text/plain": [
       "6000"
      ]
     },
     "execution_count": 15,
     "metadata": {},
     "output_type": "execute_result"
    }
   ],
   "source": [
    "dict_1[\"ali\"]*dict_1[\"salim\"]"
   ]
  },
  {
   "cell_type": "code",
   "execution_count": 16,
   "id": "9143c55c",
   "metadata": {},
   "outputs": [
    {
     "data": {
      "text/plain": [
       "0.006"
      ]
     },
     "execution_count": 16,
     "metadata": {},
     "output_type": "execute_result"
    }
   ],
   "source": [
    "dict_1[\"ali\"]/dict_1[\"salim\"]"
   ]
  },
  {
   "cell_type": "code",
   "execution_count": 17,
   "id": "3b0a5c14",
   "metadata": {},
   "outputs": [
    {
     "data": {
      "text/plain": [
       "0"
      ]
     },
     "execution_count": 17,
     "metadata": {},
     "output_type": "execute_result"
    }
   ],
   "source": [
    "dict_1[\"ali\"]//dict_1[\"salim\"]"
   ]
  },
  {
   "cell_type": "code",
   "execution_count": 18,
   "id": "960d4d5e",
   "metadata": {},
   "outputs": [
    {
     "data": {
      "text/plain": [
       "14166102623834861723796252524915224416640471830910191322323547432140618947596486436347661333869287260068907949302029484915942402681211620694598046617844295512220793103312980549591537160959053027940624117598003417503015722697428176155600362263128567590299511776686592862074376328232990325101248680123776914576482815095784568122986221890411837737570098864613342090972756469661488216176894465388028416768338495326989675118087222767384596111351304957869025273802978281783731929966468210579229830069556698928937342508988340792335737744719376598506908977135291983117722648269177947154657697517074993441515526839887073400191797445153760221695723268255006134044062503100710134200414607696976757837002911389023284338696251543694980946202137938610119300450795091488653253649628649410789376"
      ]
     },
     "execution_count": 18,
     "metadata": {},
     "output_type": "execute_result"
    }
   ],
   "source": [
    "dict_1[\"ali\"]**dict_1[\"salim\"]"
   ]
  },
  {
   "cell_type": "code",
   "execution_count": 19,
   "id": "0595120f",
   "metadata": {},
   "outputs": [
    {
     "data": {
      "text/plain": [
       "6"
      ]
     },
     "execution_count": 19,
     "metadata": {},
     "output_type": "execute_result"
    }
   ],
   "source": [
    "dict_1[\"ali\"]%dict_1[\"salim\"]"
   ]
  },
  {
   "cell_type": "markdown",
   "id": "b5261e8a",
   "metadata": {},
   "source": [
    "## Retrieving values from a dictionary"
   ]
  },
  {
   "cell_type": "code",
   "execution_count": 23,
   "id": "cbc13511",
   "metadata": {},
   "outputs": [
    {
     "name": "stdout",
     "output_type": "stream",
     "text": [
      "Enter the nameALI\n"
     ]
    },
    {
     "data": {
      "text/plain": [
       "46.0"
      ]
     },
     "execution_count": 23,
     "metadata": {},
     "output_type": "execute_result"
    }
   ],
   "source": [
    "marks = {\"ALI\":23,\"Ajmal\":45}\n",
    "name = input(\"Enter the name\")\n",
    "marks[name]/50*100"
   ]
  },
  {
   "cell_type": "markdown",
   "id": "40693498",
   "metadata": {},
   "source": [
    "dictionary is a collection of keys and values enclosed in {}"
   ]
  },
  {
   "cell_type": "markdown",
   "id": "30be28ea",
   "metadata": {},
   "source": [
    "# Revising"
   ]
  },
  {
   "cell_type": "code",
   "execution_count": 4,
   "id": "b853a662",
   "metadata": {},
   "outputs": [],
   "source": [
    "dict_1 = {\"salim\":2,\n",
    "         1:23}"
   ]
  },
  {
   "cell_type": "code",
   "execution_count": 5,
   "id": "688488ca",
   "metadata": {},
   "outputs": [
    {
     "data": {
      "text/plain": [
       "2"
      ]
     },
     "execution_count": 5,
     "metadata": {},
     "output_type": "execute_result"
    }
   ],
   "source": [
    "dict_1[\"salim\"]"
   ]
  },
  {
   "cell_type": "code",
   "execution_count": 7,
   "id": "68bffc1d",
   "metadata": {},
   "outputs": [
    {
     "data": {
      "text/plain": [
       "23"
      ]
     },
     "execution_count": 7,
     "metadata": {},
     "output_type": "execute_result"
    }
   ],
   "source": [
    "dict_1[1]"
   ]
  },
  {
   "cell_type": "code",
   "execution_count": 25,
   "id": "3b864f6c",
   "metadata": {},
   "outputs": [],
   "source": [
    "tsipher = \"7nedw4e5ns4s734r\"\n",
    "decripter = {\"7\":\"H\",t\n",
    "            \"n\":\"I\",\n",
    "            \"e\":\"M\",\n",
    "            \"d\":\"Y\",\n",
    "            \"w\":\"N\",\n",
    "            \"4\":\"A\",\n",
    "            \"s\":\"S\",\n",
    "            \"3\":\"T\",\n",
    "            \"r\":\"R\",\n",
    "            \"5\":\"E\"}\n",
    "decripted_message = []\n",
    "for I in sipher:\n",
    "    decripted_message.append(decripter[I])"
   ]
  },
  {
   "cell_type": "code",
   "execution_count": 26,
   "id": "170a5c35",
   "metadata": {},
   "outputs": [
    {
     "data": {
      "text/plain": [
       "['H',\n",
       " 'I',\n",
       " 'M',\n",
       " 'Y',\n",
       " 'N',\n",
       " 'A',\n",
       " 'M',\n",
       " 'E',\n",
       " 'I',\n",
       " 'S',\n",
       " 'A',\n",
       " 'S',\n",
       " 'H',\n",
       " 'T',\n",
       " 'A',\n",
       " 'R']"
      ]
     },
     "execution_count": 26,
     "metadata": {},
     "output_type": "execute_result"
    }
   ],
   "source": [
    "decripted_message"
   ]
  },
  {
   "cell_type": "code",
   "execution_count": 27,
   "id": "4e35f685",
   "metadata": {},
   "outputs": [
    {
     "name": "stdout",
     "output_type": "stream",
     "text": [
      "['H', 'I', 'M', 'Y', 'N', 'A', 'M', 'E', 'I', 'S', 'A', 'S', 'H', 'T', 'A', 'R'] "
     ]
    }
   ],
   "source": [
    "print(decripted_message,end=\" \")"
   ]
  },
  {
   "cell_type": "code",
   "execution_count": 53,
   "id": "2a689a82",
   "metadata": {},
   "outputs": [],
   "source": [
    "sipher = \"2e34568\"\n",
    "decripter = {\"2\":\"H\",\n",
    "             \"e\":\"I\",\n",
    "             \"3\":\"W\",\n",
    "             \"4\":\"O\",\n",
    "             \"5\":\"R\",\n",
    "             \"6\":\"L\",\n",
    "             \"8\":\"D\"}\n",
    "decripted_message = []\n",
    "for I in sipher:\n",
    "    decripted_message.append(decripter[I])"
   ]
  },
  {
   "cell_type": "code",
   "execution_count": 54,
   "id": "00158a06",
   "metadata": {},
   "outputs": [
    {
     "data": {
      "text/plain": [
       "['H', 'I', 'W', 'O', 'R', 'L', 'D']"
      ]
     },
     "execution_count": 54,
     "metadata": {},
     "output_type": "execute_result"
    }
   ],
   "source": [
    "decripted_message"
   ]
  },
  {
   "cell_type": "code",
   "execution_count": 58,
   "id": "defe6a63",
   "metadata": {},
   "outputs": [],
   "source": [
    "# Sets \n",
    "set_1 = {1,2,3,4,5}\n",
    "set_2 = {5,6,7,8}"
   ]
  },
  {
   "cell_type": "code",
   "execution_count": 59,
   "id": "bf8bf516",
   "metadata": {},
   "outputs": [
    {
     "data": {
      "text/plain": [
       "{5}"
      ]
     },
     "execution_count": 59,
     "metadata": {},
     "output_type": "execute_result"
    }
   ],
   "source": [
    "set_1.intersection(set_2)"
   ]
  },
  {
   "cell_type": "code",
   "execution_count": 66,
   "id": "36d9cf37",
   "metadata": {},
   "outputs": [],
   "source": [
    "set_3 = {1,2,3,4}\n",
    "set_4 = {1,2,3,4,5}"
   ]
  },
  {
   "cell_type": "code",
   "execution_count": 61,
   "id": "165b1486",
   "metadata": {},
   "outputs": [
    {
     "data": {
      "text/plain": [
       "{2, 3, 4}"
      ]
     },
     "execution_count": 61,
     "metadata": {},
     "output_type": "execute_result"
    }
   ],
   "source": [
    "set_3.intersection(set_4)"
   ]
  },
  {
   "cell_type": "code",
   "execution_count": 62,
   "id": "28520094",
   "metadata": {},
   "outputs": [
    {
     "data": {
      "text/plain": [
       "{1, 2, 3, 4}"
      ]
     },
     "execution_count": 62,
     "metadata": {},
     "output_type": "execute_result"
    }
   ],
   "source": [
    "set_1.difference(set_2)"
   ]
  },
  {
   "cell_type": "code",
   "execution_count": 63,
   "id": "c9a34e8f",
   "metadata": {},
   "outputs": [
    {
     "data": {
      "text/plain": [
       "{1}"
      ]
     },
     "execution_count": 63,
     "metadata": {},
     "output_type": "execute_result"
    }
   ],
   "source": [
    "set_3.difference(set_4)"
   ]
  },
  {
   "cell_type": "code",
   "execution_count": 67,
   "id": "4ba85932",
   "metadata": {},
   "outputs": [
    {
     "data": {
      "text/plain": [
       "True"
      ]
     },
     "execution_count": 67,
     "metadata": {},
     "output_type": "execute_result"
    }
   ],
   "source": [
    "set_3.issubset(set_4)"
   ]
  },
  {
   "cell_type": "markdown",
   "id": "a90450b3",
   "metadata": {},
   "source": [
    "# Tuples"
   ]
  },
  {
   "cell_type": "code",
   "execution_count": 3,
   "id": "fa474f91",
   "metadata": {},
   "outputs": [
    {
     "data": {
      "text/plain": [
       "tuple"
      ]
     },
     "execution_count": 3,
     "metadata": {},
     "output_type": "execute_result"
    }
   ],
   "source": [
    "tuple_1 = (1,2,3)\n",
    "type(tuple_1)"
   ]
  },
  {
   "cell_type": "markdown",
   "id": "edfdc18b",
   "metadata": {},
   "source": [
    "**Tuples are collection of data enclosed in parenthesis**"
   ]
  },
  {
   "cell_type": "code",
   "execution_count": 4,
   "id": "b697a893",
   "metadata": {},
   "outputs": [
    {
     "data": {
      "text/plain": [
       "(1, 2, 3)"
      ]
     },
     "execution_count": 4,
     "metadata": {},
     "output_type": "execute_result"
    }
   ],
   "source": [
    "tuple_1"
   ]
  },
  {
   "cell_type": "code",
   "execution_count": 5,
   "id": "7eb7ad71",
   "metadata": {},
   "outputs": [
    {
     "data": {
      "text/plain": [
       "1"
      ]
     },
     "execution_count": 5,
     "metadata": {},
     "output_type": "execute_result"
    }
   ],
   "source": [
    "tuple_1[0]"
   ]
  },
  {
   "cell_type": "code",
   "execution_count": 7,
   "id": "762f352f",
   "metadata": {},
   "outputs": [],
   "source": [
    "# Try to modify element at position 1\n",
    "# typle_1[0] = 2"
   ]
  },
  {
   "cell_type": "markdown",
   "id": "6d4f02d4",
   "metadata": {},
   "source": [
    "**The above code will show an error beacuse tuple are immutable means the tuples cannot be modified**"
   ]
  },
  {
   "cell_type": "markdown",
   "id": "87555ea2",
   "metadata": {},
   "source": [
    "# Selection Structure"
   ]
  },
  {
   "cell_type": "code",
   "execution_count": 8,
   "id": "8ce868e0",
   "metadata": {},
   "outputs": [
    {
     "name": "stdout",
     "output_type": "stream",
     "text": [
      "your age is less than 15\n"
     ]
    }
   ],
   "source": [
    "# if else\n",
    "a = 18\n",
    "if a>25:\n",
    "    print(\"your age is greater than 15\")\n",
    "else:\n",
    "    print(\"your age is less than 15\")"
   ]
  },
  {
   "cell_type": "markdown",
   "id": "2b95f391",
   "metadata": {},
   "source": [
    "\"\"\"\n",
    "\n",
    "What does the above code do?\n",
    "\n",
    "ANS:\n",
    "\n",
    "The above code helps us to execute a specific piece of code\n",
    "\n",
    "if a condition is met\n",
    "\n",
    "In the above piece of code we initiate a variable \"a\" and stored 18 in it\n",
    "\n",
    "Next we use the if statement to check wether a is greater than 15\n",
    "\n",
    "If a is greater than 15 (if a > 15 :) it will execute the line indented\n",
    "\n",
    "if a> 15:\n",
    "\n",
    "---> the line executed if a > 15 is --> print(\"age is greater than 15\")\n",
    "\n",
    "if the condition above isnt valid e.g if is less than 15 it will execute\n",
    "\n",
    "code in else\n",
    "\n",
    "else:\n",
    "\n",
    "--> it will execute this statement --> print(\"age is less than 15\")\n",
    "\n",
    "\"\"\""
   ]
  },
  {
   "cell_type": "markdown",
   "id": "eb22dbc4",
   "metadata": {},
   "source": [
    "**Errors that can be caused in the above statement**"
   ]
  },
  {
   "cell_type": "markdown",
   "id": "78ebd708",
   "metadata": {},
   "source": [
    "if a > 15\n",
    "\n",
    "print(\"age is greater than 15\")"
   ]
  },
  {
   "cell_type": "markdown",
   "id": "a0a071b9",
   "metadata": {},
   "source": [
    "if a>15:\n",
    "    \n",
    "    print(\"age is greater than 15\")\n",
    "    \n",
    "    else:\n",
    "        \n",
    "        print(\"age is greater than\")"
   ]
  },
  {
   "cell_type": "markdown",
   "id": "44cb1863",
   "metadata": {},
   "source": [
    "**here we have else statement inside the if statement that will cause**"
   ]
  },
  {
   "cell_type": "markdown",
   "id": "dd17ab95",
   "metadata": {},
   "source": [
    "# Exercise"
   ]
  },
  {
   "cell_type": "code",
   "execution_count": 12,
   "id": "a0f9d718",
   "metadata": {},
   "outputs": [],
   "source": [
    "# write a program that adds two numbers if they are not equal\n"
   ]
  },
  {
   "cell_type": "code",
   "execution_count": 20,
   "id": "0cda4c07",
   "metadata": {},
   "outputs": [
    {
     "name": "stdout",
     "output_type": "stream",
     "text": [
      "33\n"
     ]
    }
   ],
   "source": [
    "a = 15\n",
    "b = 18\n",
    "if a != b:\n",
    "    print(15+18)\n",
    "else:\n",
    "    print(15-18)"
   ]
  },
  {
   "cell_type": "code",
   "execution_count": null,
   "id": "ff1c7e85",
   "metadata": {},
   "outputs": [],
   "source": []
  }
 ],
 "metadata": {
  "kernelspec": {
   "display_name": "Python 3 (ipykernel)",
   "language": "python",
   "name": "python3"
  },
  "language_info": {
   "codemirror_mode": {
    "name": "ipython",
    "version": 3
   },
   "file_extension": ".py",
   "mimetype": "text/x-python",
   "name": "python",
   "nbconvert_exporter": "python",
   "pygments_lexer": "ipython3",
   "version": "3.10.8"
  }
 },
 "nbformat": 4,
 "nbformat_minor": 5
}
