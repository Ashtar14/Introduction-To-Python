{
 "cells": [
  {
   "cell_type": "code",
   "execution_count": 1,
   "id": "f249e38c",
   "metadata": {},
   "outputs": [],
   "source": [
    "for i in range (10):\n",
    "    e=i/2\n",
    "    if type(e) != float:\n",
    "        print(i)"
   ]
  },
  {
   "cell_type": "code",
   "execution_count": 2,
   "id": "5b1f0e5b",
   "metadata": {},
   "outputs": [
    {
     "data": {
      "text/plain": [
       "True"
      ]
     },
     "execution_count": 2,
     "metadata": {},
     "output_type": "execute_result"
    }
   ],
   "source": [
    "i=2.5\n",
    "type(i) == float"
   ]
  },
  {
   "cell_type": "markdown",
   "id": "b9cf9a89",
   "metadata": {},
   "source": [
    "# Project_1\n",
    "we got an exel file from our client name hadi\n",
    "subject wanted a python scrip that returns the represented records from the excel database\n",
    "\n",
    "**What we will be doing:**\n",
    "\n",
    "1) Making sure that Book1.xlms file is present int the directory our intro to python notebook\n",
    "\n",
    "2) We will load in the data using pandas dataframe\n",
    "\n",
    "3) We will analyze the data\n",
    "\n",
    "4) We write code to fetch the specific records\n",
    "\n",
    "5) We will export the results.xlms file for the client\n",
    "\n",
    ":) lets code"
   ]
  },
  {
   "cell_type": "markdown",
   "id": "45a0e037",
   "metadata": {},
   "source": [
    "## Importing the required libraries"
   ]
  },
  {
   "cell_type": "code",
   "execution_count": 7,
   "id": "b9484d5d",
   "metadata": {},
   "outputs": [
    {
     "name": "stdout",
     "output_type": "stream",
     "text": [
      "Collecting numpy\n",
      "  Downloading numpy-1.24.1-cp310-cp310-win_amd64.whl (14.8 MB)\n",
      "     -------------------------------------- 14.8/14.8 MB 703.2 kB/s eta 0:00:00\n",
      "Installing collected packages: numpy\n",
      "Successfully installed numpy-1.24.1\n",
      "Note: you may need to restart the kernel to use updated packages.\n"
     ]
    }
   ],
   "source": [
    "pip install numpy"
   ]
  },
  {
   "cell_type": "code",
   "execution_count": 2,
   "id": "2be5f7af",
   "metadata": {},
   "outputs": [
    {
     "name": "stdout",
     "output_type": "stream",
     "text": [
      "Requirement already satisfied: pandas in d:\\environment\\lib\\site-packages (1.5.3)Note: you may need to restart the kernel to use updated packages.\n",
      "\n",
      "Requirement already satisfied: pytz>=2020.1 in d:\\environment\\lib\\site-packages (from pandas) (2022.7)\n",
      "Requirement already satisfied: numpy>=1.21.0 in d:\\environment\\lib\\site-packages (from pandas) (1.24.1)\n",
      "Requirement already satisfied: python-dateutil>=2.8.1 in d:\\environment\\lib\\site-packages (from pandas) (2.8.2)\n",
      "Requirement already satisfied: six>=1.5 in d:\\environment\\lib\\site-packages (from python-dateutil>=2.8.1->pandas) (1.16.0)\n"
     ]
    }
   ],
   "source": [
    "pip install pandas"
   ]
  },
  {
   "cell_type": "code",
   "execution_count": 2,
   "id": "52911862",
   "metadata": {},
   "outputs": [],
   "source": [
    "import pandas as pd #importing pandas library with a subsitute name pd\n",
    "\n",
    "import numpy as np #importing numpy library with subsitute name np\n"
   ]
  },
  {
   "cell_type": "code",
   "execution_count": 1,
   "id": "03e6a3da",
   "metadata": {},
   "outputs": [
    {
     "name": "stdout",
     "output_type": "stream",
     "text": [
      "Requirement already satisfied: openpyxl in d:\\environment\\lib\\site-packages (3.1.0)\n",
      "Requirement already satisfied: et-xmlfile in d:\\environment\\lib\\site-packages (from openpyxl) (1.1.0)\n",
      "Note: you may need to restart the kernel to use updated packages.\n"
     ]
    }
   ],
   "source": [
    "pip install openpyxl"
   ]
  },
  {
   "cell_type": "code",
   "execution_count": 7,
   "id": "57ec69bb",
   "metadata": {},
   "outputs": [],
   "source": [
    "x = pd.read_excel(\"Book1.xlsx\")"
   ]
  },
  {
   "cell_type": "code",
   "execution_count": 8,
   "id": "af57ad0c",
   "metadata": {
    "scrolled": true
   },
   "outputs": [
    {
     "data": {
      "text/html": [
       "<div>\n",
       "<style scoped>\n",
       "    .dataframe tbody tr th:only-of-type {\n",
       "        vertical-align: middle;\n",
       "    }\n",
       "\n",
       "    .dataframe tbody tr th {\n",
       "        vertical-align: top;\n",
       "    }\n",
       "\n",
       "    .dataframe thead th {\n",
       "        text-align: right;\n",
       "    }\n",
       "</style>\n",
       "<table border=\"1\" class=\"dataframe\">\n",
       "  <thead>\n",
       "    <tr style=\"text-align: right;\">\n",
       "      <th></th>\n",
       "      <th>Carers</th>\n",
       "      <th>MATCHES</th>\n",
       "      <th>INNINGS</th>\n",
       "      <th>RUNS</th>\n",
       "      <th>AVERAGE</th>\n",
       "      <th>SR</th>\n",
       "      <th>50s:</th>\n",
       "      <th>100s:</th>\n",
       "      <th>BEST</th>\n",
       "    </tr>\n",
       "  </thead>\n",
       "  <tbody>\n",
       "    <tr>\n",
       "      <th>0</th>\n",
       "      <td>TEST</td>\n",
       "      <td>3</td>\n",
       "      <td>5</td>\n",
       "      <td>304</td>\n",
       "      <td>60.80</td>\n",
       "      <td>93.0</td>\n",
       "      <td>4</td>\n",
       "      <td>0</td>\n",
       "      <td>99</td>\n",
       "    </tr>\n",
       "    <tr>\n",
       "      <th>1</th>\n",
       "      <td>ODI</td>\n",
       "      <td>48</td>\n",
       "      <td>48</td>\n",
       "      <td>4244</td>\n",
       "      <td>88.40</td>\n",
       "      <td>118.3</td>\n",
       "      <td>20</td>\n",
       "      <td>21</td>\n",
       "      <td>225</td>\n",
       "    </tr>\n",
       "    <tr>\n",
       "      <th>2</th>\n",
       "      <td>T20</td>\n",
       "      <td>51</td>\n",
       "      <td>51</td>\n",
       "      <td>2781</td>\n",
       "      <td>55.32</td>\n",
       "      <td>147.0</td>\n",
       "      <td>17</td>\n",
       "      <td>4</td>\n",
       "      <td>123</td>\n",
       "    </tr>\n",
       "    <tr>\n",
       "      <th>3</th>\n",
       "      <td>TEST</td>\n",
       "      <td>4</td>\n",
       "      <td>5</td>\n",
       "      <td>6</td>\n",
       "      <td>7.00</td>\n",
       "      <td>8.0</td>\n",
       "      <td>9</td>\n",
       "      <td>2</td>\n",
       "      <td>3</td>\n",
       "    </tr>\n",
       "  </tbody>\n",
       "</table>\n",
       "</div>"
      ],
      "text/plain": [
       "  Carers  MATCHES   INNINGS   RUNS   AVERAGE      SR  50s:  100s:  BEST\n",
       "0   TEST        3          5    304     60.80   93.0     4      0    99\n",
       "1    ODI       48         48   4244     88.40  118.3    20     21   225\n",
       "2    T20       51         51   2781     55.32  147.0    17      4   123\n",
       "3   TEST        4          5      6      7.00    8.0     9      2     3"
      ]
     },
     "execution_count": 8,
     "metadata": {},
     "output_type": "execute_result"
    }
   ],
   "source": [
    "x"
   ]
  },
  {
   "cell_type": "code",
   "execution_count": 8,
   "id": "77d5e4d6",
   "metadata": {},
   "outputs": [
    {
     "data": {
      "text/plain": [
       "0    TEST\n",
       "1     ODI\n",
       "2     T20\n",
       "3    TEST\n",
       "Name: Carers, dtype: object"
      ]
     },
     "execution_count": 8,
     "metadata": {},
     "output_type": "execute_result"
    }
   ],
   "source": [
    "x.t"
   ]
  },
  {
   "cell_type": "code",
   "execution_count": 11,
   "id": "c28e001e",
   "metadata": {},
   "outputs": [
    {
     "data": {
      "text/plain": [
       "0     4\n",
       "1    20\n",
       "2    17\n",
       "3     9\n",
       "Name: 50s:, dtype: int64"
      ]
     },
     "execution_count": 11,
     "metadata": {},
     "output_type": "execute_result"
    }
   ],
   "source": [
    "x[\"50s:\"]"
   ]
  },
  {
   "cell_type": "code",
   "execution_count": 16,
   "id": "565e69b1",
   "metadata": {},
   "outputs": [
    {
     "name": "stdout",
     "output_type": "stream",
     "text": [
      "String containing Carers in capitalTEST\n"
     ]
    }
   ],
   "source": [
    "y = input(\"String containing Carers in capital\")"
   ]
  },
  {
   "cell_type": "code",
   "execution_count": 17,
   "id": "ae57dfa4",
   "metadata": {},
   "outputs": [
    {
     "data": {
      "text/plain": [
       "'TEST'"
      ]
     },
     "execution_count": 17,
     "metadata": {},
     "output_type": "execute_result"
    }
   ],
   "source": [
    "y"
   ]
  },
  {
   "cell_type": "code",
   "execution_count": 18,
   "id": "99af7f3b",
   "metadata": {},
   "outputs": [],
   "source": [
    "output = pd.DataFrame(x[x.Carers==y])"
   ]
  },
  {
   "cell_type": "code",
   "execution_count": 19,
   "id": "2fb9e9bd",
   "metadata": {},
   "outputs": [
    {
     "data": {
      "text/html": [
       "<div>\n",
       "<style scoped>\n",
       "    .dataframe tbody tr th:only-of-type {\n",
       "        vertical-align: middle;\n",
       "    }\n",
       "\n",
       "    .dataframe tbody tr th {\n",
       "        vertical-align: top;\n",
       "    }\n",
       "\n",
       "    .dataframe thead th {\n",
       "        text-align: right;\n",
       "    }\n",
       "</style>\n",
       "<table border=\"1\" class=\"dataframe\">\n",
       "  <thead>\n",
       "    <tr style=\"text-align: right;\">\n",
       "      <th></th>\n",
       "      <th>Carers</th>\n",
       "      <th>MATCHES</th>\n",
       "      <th>INNINGS</th>\n",
       "      <th>RUNS</th>\n",
       "      <th>AVERAGE</th>\n",
       "      <th>SR</th>\n",
       "      <th>50s:</th>\n",
       "      <th>100s:</th>\n",
       "      <th>BEST</th>\n",
       "    </tr>\n",
       "  </thead>\n",
       "  <tbody>\n",
       "    <tr>\n",
       "      <th>0</th>\n",
       "      <td>TEST</td>\n",
       "      <td>3</td>\n",
       "      <td>5</td>\n",
       "      <td>304</td>\n",
       "      <td>60.8</td>\n",
       "      <td>93.0</td>\n",
       "      <td>4</td>\n",
       "      <td>0</td>\n",
       "      <td>99</td>\n",
       "    </tr>\n",
       "    <tr>\n",
       "      <th>3</th>\n",
       "      <td>TEST</td>\n",
       "      <td>4</td>\n",
       "      <td>5</td>\n",
       "      <td>6</td>\n",
       "      <td>7.0</td>\n",
       "      <td>8.0</td>\n",
       "      <td>9</td>\n",
       "      <td>2</td>\n",
       "      <td>3</td>\n",
       "    </tr>\n",
       "  </tbody>\n",
       "</table>\n",
       "</div>"
      ],
      "text/plain": [
       "  Carers  MATCHES   INNINGS   RUNS   AVERAGE     SR  50s:  100s:  BEST\n",
       "0   TEST        3          5    304      60.8  93.0     4      0    99\n",
       "3   TEST        4          5      6       7.0   8.0     9      2     3"
      ]
     },
     "execution_count": 19,
     "metadata": {},
     "output_type": "execute_result"
    }
   ],
   "source": [
    "output"
   ]
  },
  {
   "cell_type": "code",
   "execution_count": 13,
   "id": "16c4d65f",
   "metadata": {},
   "outputs": [
    {
     "name": "stdout",
     "output_type": "stream",
     "text": [
      "String containing INNINGS in 55\n"
     ]
    }
   ],
   "source": [
    "l = input(\"String containing INNINGS in 5\")"
   ]
  },
  {
   "cell_type": "code",
   "execution_count": 21,
   "id": "ae962006",
   "metadata": {},
   "outputs": [
    {
     "data": {
      "text/plain": [
       "'5'"
      ]
     },
     "execution_count": 21,
     "metadata": {},
     "output_type": "execute_result"
    }
   ],
   "source": [
    "l"
   ]
  },
  {
   "cell_type": "code",
   "execution_count": 18,
   "id": "4766d519",
   "metadata": {},
   "outputs": [
    {
     "data": {
      "text/plain": [
       "Index(['Carers', 'MATCHES', ' INNINGS ', 'RUNS ', 'AVERAGE ', 'SR', '50s:',\n",
       "       '100s:', 'BEST'],\n",
       "      dtype='object')"
      ]
     },
     "execution_count": 18,
     "metadata": {},
     "output_type": "execute_result"
    }
   ],
   "source": [
    "x.columns"
   ]
  },
  {
   "cell_type": "code",
   "execution_count": 19,
   "id": "77924897",
   "metadata": {},
   "outputs": [],
   "source": [
    "r = pd.DataFrame(x[x[\" INNINGS \"]==int(l)])"
   ]
  },
  {
   "cell_type": "code",
   "execution_count": 20,
   "id": "ca650a69",
   "metadata": {},
   "outputs": [
    {
     "data": {
      "text/html": [
       "<div>\n",
       "<style scoped>\n",
       "    .dataframe tbody tr th:only-of-type {\n",
       "        vertical-align: middle;\n",
       "    }\n",
       "\n",
       "    .dataframe tbody tr th {\n",
       "        vertical-align: top;\n",
       "    }\n",
       "\n",
       "    .dataframe thead th {\n",
       "        text-align: right;\n",
       "    }\n",
       "</style>\n",
       "<table border=\"1\" class=\"dataframe\">\n",
       "  <thead>\n",
       "    <tr style=\"text-align: right;\">\n",
       "      <th></th>\n",
       "      <th>Carers</th>\n",
       "      <th>MATCHES</th>\n",
       "      <th>INNINGS</th>\n",
       "      <th>RUNS</th>\n",
       "      <th>AVERAGE</th>\n",
       "      <th>SR</th>\n",
       "      <th>50s:</th>\n",
       "      <th>100s:</th>\n",
       "      <th>BEST</th>\n",
       "    </tr>\n",
       "  </thead>\n",
       "  <tbody>\n",
       "    <tr>\n",
       "      <th>0</th>\n",
       "      <td>TEST</td>\n",
       "      <td>3</td>\n",
       "      <td>5</td>\n",
       "      <td>304</td>\n",
       "      <td>60.8</td>\n",
       "      <td>93.0</td>\n",
       "      <td>4</td>\n",
       "      <td>0</td>\n",
       "      <td>99</td>\n",
       "    </tr>\n",
       "    <tr>\n",
       "      <th>3</th>\n",
       "      <td>TEST</td>\n",
       "      <td>4</td>\n",
       "      <td>5</td>\n",
       "      <td>6</td>\n",
       "      <td>7.0</td>\n",
       "      <td>8.0</td>\n",
       "      <td>9</td>\n",
       "      <td>2</td>\n",
       "      <td>3</td>\n",
       "    </tr>\n",
       "  </tbody>\n",
       "</table>\n",
       "</div>"
      ],
      "text/plain": [
       "  Carers  MATCHES   INNINGS   RUNS   AVERAGE     SR  50s:  100s:  BEST\n",
       "0   TEST        3          5    304      60.8  93.0     4      0    99\n",
       "3   TEST        4          5      6       7.0   8.0     9      2     3"
      ]
     },
     "execution_count": 20,
     "metadata": {},
     "output_type": "execute_result"
    }
   ],
   "source": [
    "r"
   ]
  },
  {
   "cell_type": "markdown",
   "id": "31d7339d",
   "metadata": {},
   "source": [
    " #   We are going to create a script of the above project that willl take the input from the user extract the data from the data base and store it into the output excel file"
   ]
  },
  {
   "cell_type": "code",
   "execution_count": 16,
   "id": "d17387a0",
   "metadata": {},
   "outputs": [
    {
     "name": "stdout",
     "output_type": "stream",
     "text": [
      "Please enter the carrer in capitaldd\n",
      "Please enter the carrer in capitalTEST\n"
     ]
    },
    {
     "ename": "KeyboardInterrupt",
     "evalue": "Interrupted by user",
     "output_type": "error",
     "traceback": [
      "\u001b[1;31m---------------------------------------------------------------------------\u001b[0m",
      "\u001b[1;31mKeyboardInterrupt\u001b[0m                         Traceback (most recent call last)",
      "Cell \u001b[1;32mIn[16], line 9\u001b[0m\n\u001b[0;32m      7\u001b[0m z\u001b[38;5;241m=\u001b[39m\u001b[38;5;28;01mTrue\u001b[39;00m\n\u001b[0;32m      8\u001b[0m \u001b[38;5;28;01mwhile\u001b[39;00m z \u001b[38;5;241m==\u001b[39m \u001b[38;5;28;01mTrue\u001b[39;00m:\n\u001b[1;32m----> 9\u001b[0m     y \u001b[38;5;241m=\u001b[39m \u001b[38;5;28;43minput\u001b[39;49m\u001b[43m(\u001b[49m\u001b[38;5;124;43m\"\u001b[39;49m\u001b[38;5;124;43mPlease enter the carrer in capital\u001b[39;49m\u001b[38;5;124;43m\"\u001b[39;49m\u001b[43m)\u001b[49m\n\u001b[0;32m     11\u001b[0m     \u001b[38;5;28;01mif\u001b[39;00m \u001b[38;5;28minput\u001b[39m \u001b[38;5;129;01min\u001b[39;00m list_1:\n\u001b[0;32m     12\u001b[0m         output \u001b[38;5;241m=\u001b[39m pd\u001b[38;5;241m.\u001b[39mDataFrame(data[data\u001b[38;5;241m.\u001b[39mCarers \u001b[38;5;241m==\u001b[39m y])\n",
      "File \u001b[1;32mD:\\environment\\lib\\site-packages\\ipykernel\\kernelbase.py:1177\u001b[0m, in \u001b[0;36mKernel.raw_input\u001b[1;34m(self, prompt)\u001b[0m\n\u001b[0;32m   1173\u001b[0m \u001b[38;5;28;01mif\u001b[39;00m \u001b[38;5;129;01mnot\u001b[39;00m \u001b[38;5;28mself\u001b[39m\u001b[38;5;241m.\u001b[39m_allow_stdin:\n\u001b[0;32m   1174\u001b[0m     \u001b[38;5;28;01mraise\u001b[39;00m StdinNotImplementedError(\n\u001b[0;32m   1175\u001b[0m         \u001b[38;5;124m\"\u001b[39m\u001b[38;5;124mraw_input was called, but this frontend does not support input requests.\u001b[39m\u001b[38;5;124m\"\u001b[39m\n\u001b[0;32m   1176\u001b[0m     )\n\u001b[1;32m-> 1177\u001b[0m \u001b[38;5;28;01mreturn\u001b[39;00m \u001b[38;5;28;43mself\u001b[39;49m\u001b[38;5;241;43m.\u001b[39;49m\u001b[43m_input_request\u001b[49m\u001b[43m(\u001b[49m\n\u001b[0;32m   1178\u001b[0m \u001b[43m    \u001b[49m\u001b[38;5;28;43mstr\u001b[39;49m\u001b[43m(\u001b[49m\u001b[43mprompt\u001b[49m\u001b[43m)\u001b[49m\u001b[43m,\u001b[49m\n\u001b[0;32m   1179\u001b[0m \u001b[43m    \u001b[49m\u001b[38;5;28;43mself\u001b[39;49m\u001b[38;5;241;43m.\u001b[39;49m\u001b[43m_parent_ident\u001b[49m\u001b[43m[\u001b[49m\u001b[38;5;124;43m\"\u001b[39;49m\u001b[38;5;124;43mshell\u001b[39;49m\u001b[38;5;124;43m\"\u001b[39;49m\u001b[43m]\u001b[49m\u001b[43m,\u001b[49m\n\u001b[0;32m   1180\u001b[0m \u001b[43m    \u001b[49m\u001b[38;5;28;43mself\u001b[39;49m\u001b[38;5;241;43m.\u001b[39;49m\u001b[43mget_parent\u001b[49m\u001b[43m(\u001b[49m\u001b[38;5;124;43m\"\u001b[39;49m\u001b[38;5;124;43mshell\u001b[39;49m\u001b[38;5;124;43m\"\u001b[39;49m\u001b[43m)\u001b[49m\u001b[43m,\u001b[49m\n\u001b[0;32m   1181\u001b[0m \u001b[43m    \u001b[49m\u001b[43mpassword\u001b[49m\u001b[38;5;241;43m=\u001b[39;49m\u001b[38;5;28;43;01mFalse\u001b[39;49;00m\u001b[43m,\u001b[49m\n\u001b[0;32m   1182\u001b[0m \u001b[43m\u001b[49m\u001b[43m)\u001b[49m\n",
      "File \u001b[1;32mD:\\environment\\lib\\site-packages\\ipykernel\\kernelbase.py:1219\u001b[0m, in \u001b[0;36mKernel._input_request\u001b[1;34m(self, prompt, ident, parent, password)\u001b[0m\n\u001b[0;32m   1216\u001b[0m             \u001b[38;5;28;01mbreak\u001b[39;00m\n\u001b[0;32m   1217\u001b[0m \u001b[38;5;28;01mexcept\u001b[39;00m \u001b[38;5;167;01mKeyboardInterrupt\u001b[39;00m:\n\u001b[0;32m   1218\u001b[0m     \u001b[38;5;66;03m# re-raise KeyboardInterrupt, to truncate traceback\u001b[39;00m\n\u001b[1;32m-> 1219\u001b[0m     \u001b[38;5;28;01mraise\u001b[39;00m \u001b[38;5;167;01mKeyboardInterrupt\u001b[39;00m(\u001b[38;5;124m\"\u001b[39m\u001b[38;5;124mInterrupted by user\u001b[39m\u001b[38;5;124m\"\u001b[39m) \u001b[38;5;28;01mfrom\u001b[39;00m \u001b[38;5;28mNone\u001b[39m\n\u001b[0;32m   1220\u001b[0m \u001b[38;5;28;01mexcept\u001b[39;00m \u001b[38;5;167;01mException\u001b[39;00m:\n\u001b[0;32m   1221\u001b[0m     \u001b[38;5;28mself\u001b[39m\u001b[38;5;241m.\u001b[39mlog\u001b[38;5;241m.\u001b[39mwarning(\u001b[38;5;124m\"\u001b[39m\u001b[38;5;124mInvalid Message:\u001b[39m\u001b[38;5;124m\"\u001b[39m, exc_info\u001b[38;5;241m=\u001b[39m\u001b[38;5;28;01mTrue\u001b[39;00m)\n",
      "\u001b[1;31mKeyboardInterrupt\u001b[0m: Interrupted by user"
     ]
    }
   ],
   "source": [
    "import pandas as pd\n",
    "import numpy as np\n",
    "\n",
    "list_1 = [\"T20\",\"TEST\",\"ODI\"]\n",
    "\n",
    "data = pd.read_excel(\"Book1.xlsx\")\n",
    "z=True\n",
    "while z == True:\n",
    "    y = input(\"Please enter the carrer in capital\")\n",
    "\n",
    "    if input in list_1:\n",
    "        output = pd.DataFrame(data[data.Carers == y])\n",
    "        output.to_excel(\"output.xlsx\")\n",
    "        z=False"
   ]
  },
  {
   "cell_type": "markdown",
   "id": "e83ed3b4",
   "metadata": {},
   "source": [
    "# Python classes"
   ]
  },
  {
   "cell_type": "markdown",
   "id": "4dec004b",
   "metadata": {},
   "source": [
    "This is a way of creating a data structure\n",
    "\n",
    "For example we are in a company that need to store the name age and the salary of each employee\n",
    "\n",
    "one way of storing data in an organized manner is to create a class"
   ]
  },
  {
   "cell_type": "code",
   "execution_count": 17,
   "id": "c1ef4320",
   "metadata": {},
   "outputs": [],
   "source": [
    "# Creating a class to store name age and sallary of each employee of the company\n",
    "\n",
    "class employee():\n",
    "    def __init__(self,age,name,sallary):\n",
    "        self.age = age\n",
    "        self.name = name\n",
    "        self.sallary = sallary"
   ]
  },
  {
   "cell_type": "code",
   "execution_count": 18,
   "id": "fd1c9ac9",
   "metadata": {},
   "outputs": [],
   "source": [
    "ali = employee(20,\"ALI\",20000)"
   ]
  },
  {
   "cell_type": "code",
   "execution_count": 19,
   "id": "1f0abb49",
   "metadata": {},
   "outputs": [
    {
     "data": {
      "text/plain": [
       "'ALI'"
      ]
     },
     "execution_count": 19,
     "metadata": {},
     "output_type": "execute_result"
    }
   ],
   "source": [
    "ali.name"
   ]
  },
  {
   "cell_type": "code",
   "execution_count": 20,
   "id": "e918db3e",
   "metadata": {},
   "outputs": [
    {
     "data": {
      "text/plain": [
       "20"
      ]
     },
     "execution_count": 20,
     "metadata": {},
     "output_type": "execute_result"
    }
   ],
   "source": [
    "ali.age"
   ]
  },
  {
   "cell_type": "code",
   "execution_count": 21,
   "id": "41048939",
   "metadata": {},
   "outputs": [
    {
     "data": {
      "text/plain": [
       "20000"
      ]
     },
     "execution_count": 21,
     "metadata": {},
     "output_type": "execute_result"
    }
   ],
   "source": [
    "ali.sallary"
   ]
  },
  {
   "cell_type": "code",
   "execution_count": 31,
   "id": "34130948",
   "metadata": {},
   "outputs": [],
   "source": [
    "class Player():\n",
    "    def __init__(self,name,age,game):\n",
    "        self.name = name\n",
    "        self.age = age\n",
    "        self.game = game"
   ]
  },
  {
   "cell_type": "code",
   "execution_count": 35,
   "id": "491aa4cc",
   "metadata": {},
   "outputs": [],
   "source": [
    "micheal = Player(\"Micheal\",20,\"COD\")"
   ]
  },
  {
   "cell_type": "code",
   "execution_count": 36,
   "id": "cc33d468",
   "metadata": {},
   "outputs": [
    {
     "data": {
      "text/plain": [
       "'COD'"
      ]
     },
     "execution_count": 36,
     "metadata": {},
     "output_type": "execute_result"
    }
   ],
   "source": [
    "micheal.game"
   ]
  },
  {
   "cell_type": "code",
   "execution_count": 37,
   "id": "8746ab3c",
   "metadata": {},
   "outputs": [
    {
     "data": {
      "text/plain": [
       "20"
      ]
     },
     "execution_count": 37,
     "metadata": {},
     "output_type": "execute_result"
    }
   ],
   "source": [
    "micheal.age"
   ]
  },
  {
   "cell_type": "code",
   "execution_count": 38,
   "id": "c5a23a7e",
   "metadata": {},
   "outputs": [
    {
     "data": {
      "text/plain": [
       "'Micheal'"
      ]
     },
     "execution_count": 38,
     "metadata": {},
     "output_type": "execute_result"
    }
   ],
   "source": [
    "micheal.name"
   ]
  },
  {
   "cell_type": "code",
   "execution_count": null,
   "id": "6cdc023e",
   "metadata": {},
   "outputs": [],
   "source": []
  }
 ],
 "metadata": {
  "kernelspec": {
   "display_name": "Python 3 (ipykernel)",
   "language": "python",
   "name": "python3"
  },
  "language_info": {
   "codemirror_mode": {
    "name": "ipython",
    "version": 3
   },
   "file_extension": ".py",
   "mimetype": "text/x-python",
   "name": "python",
   "nbconvert_exporter": "python",
   "pygments_lexer": "ipython3",
   "version": "3.10.8"
  }
 },
 "nbformat": 4,
 "nbformat_minor": 5
}
