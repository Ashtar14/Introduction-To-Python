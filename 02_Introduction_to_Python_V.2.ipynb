{
 "cells": [
  {
   "cell_type": "code",
   "execution_count": 1,
   "id": "f249e38c",
   "metadata": {},
   "outputs": [],
   "source": [
    "for i in range (10):\n",
    "    e=i/2\n",
    "    if type(e) != float:\n",
    "        print(i)"
   ]
  },
  {
   "cell_type": "code",
   "execution_count": 2,
   "id": "5b1f0e5b",
   "metadata": {},
   "outputs": [
    {
     "data": {
      "text/plain": [
       "True"
      ]
     },
     "execution_count": 2,
     "metadata": {},
     "output_type": "execute_result"
    }
   ],
   "source": [
    "i=2.5\n",
    "type(i) == float"
   ]
  },
  {
   "cell_type": "markdown",
   "id": "b9cf9a89",
   "metadata": {},
   "source": [
    "# Project_1\n",
    "we got an exel file from our client name hadi\n",
    "subject wanted a python scrip that returns the represented records from the excel database\n",
    "\n",
    "**What we will be doing:**\n",
    "\n",
    "1)Making sure that Book1.xlms file is presemt int the directory our intro to python notebook\n",
    "\n",
    "2) We will load in the data using pandas dataframe\n",
    "\n",
    "3)We will analyze the data\n",
    "\n",
    "4) We write code to fetch the specific records\n",
    "\n",
    "5) We will export the results.xlms file for the client\n",
    "\n",
    ":) lets code"
   ]
  },
  {
   "cell_type": "code",
   "execution_count": null,
   "id": "f734f27d",
   "metadata": {},
   "outputs": [],
   "source": []
  },
  {
   "cell_type": "markdown",
   "id": "45a0e037",
   "metadata": {},
   "source": [
    "## Importing the required libraries"
   ]
  },
  {
   "cell_type": "code",
   "execution_count": 7,
   "id": "b9484d5d",
   "metadata": {},
   "outputs": [
    {
     "name": "stdout",
     "output_type": "stream",
     "text": [
      "Collecting numpy\n",
      "  Downloading numpy-1.24.1-cp310-cp310-win_amd64.whl (14.8 MB)\n",
      "     -------------------------------------- 14.8/14.8 MB 703.2 kB/s eta 0:00:00\n",
      "Installing collected packages: numpy\n",
      "Successfully installed numpy-1.24.1\n",
      "Note: you may need to restart the kernel to use updated packages.\n"
     ]
    }
   ],
   "source": [
    "pip install numpy"
   ]
  },
  {
   "cell_type": "code",
   "execution_count": 8,
   "id": "2be5f7af",
   "metadata": {},
   "outputs": [
    {
     "name": "stdout",
     "output_type": "stream",
     "text": [
      "Collecting pandasNote: you may need to restart the kernel to use updated packages.\n",
      "\n",
      "  Downloading pandas-1.5.3-cp310-cp310-win_amd64.whl (10.4 MB)\n",
      "     -------------------------------------- 10.4/10.4 MB 875.2 kB/s eta 0:00:00\n",
      "Requirement already satisfied: python-dateutil>=2.8.1 in d:\\environment\\lib\\site-packages (from pandas) (2.8.2)\n",
      "Requirement already satisfied: numpy>=1.21.0 in d:\\environment\\lib\\site-packages (from pandas) (1.24.1)\n",
      "Requirement already satisfied: pytz>=2020.1 in d:\\environment\\lib\\site-packages (from pandas) (2022.7)\n",
      "Requirement already satisfied: six>=1.5 in d:\\environment\\lib\\site-packages (from python-dateutil>=2.8.1->pandas) (1.16.0)\n",
      "Installing collected packages: pandas\n",
      "Successfully installed pandas-1.5.3\n"
     ]
    }
   ],
   "source": [
    "pip install pandas"
   ]
  },
  {
   "cell_type": "code",
   "execution_count": 12,
   "id": "52911862",
   "metadata": {},
   "outputs": [],
   "source": [
    "import pandas as pd #importing pandas library with a subsitute name pd\n",
    "\n",
    "import numpy as np #importing numpy library with subsitute name np\n"
   ]
  },
  {
   "cell_type": "code",
   "execution_count": 15,
   "id": "03e6a3da",
   "metadata": {},
   "outputs": [
    {
     "name": "stdout",
     "output_type": "stream",
     "text": [
      "Collecting openpyxl\n",
      "  Downloading openpyxl-3.1.0-py2.py3-none-any.whl (250 kB)\n",
      "     -------------------------------------- 250.0/250.0 kB 1.5 MB/s eta 0:00:00\n",
      "Collecting et-xmlfile\n",
      "  Downloading et_xmlfile-1.1.0-py3-none-any.whl (4.7 kB)\n",
      "Installing collected packages: et-xmlfile, openpyxl\n",
      "Successfully installed et-xmlfile-1.1.0 openpyxl-3.1.0\n",
      "Note: you may need to restart the kernel to use updated packages.\n"
     ]
    }
   ],
   "source": [
    "pip install openpyxl"
   ]
  },
  {
   "cell_type": "code",
   "execution_count": 18,
   "id": "57ec69bb",
   "metadata": {},
   "outputs": [],
   "source": [
    "x = pd.read_excel(\"Book1.xlsx\")"
   ]
  },
  {
   "cell_type": "code",
   "execution_count": null,
   "id": "af57ad0c",
   "metadata": {},
   "outputs": [],
   "source": []
  }
 ],
 "metadata": {
  "kernelspec": {
   "display_name": "Python 3 (ipykernel)",
   "language": "python",
   "name": "python3"
  },
  "language_info": {
   "codemirror_mode": {
    "name": "ipython",
    "version": 3
   },
   "file_extension": ".py",
   "mimetype": "text/x-python",
   "name": "python",
   "nbconvert_exporter": "python",
   "pygments_lexer": "ipython3",
   "version": "3.10.8"
  }
 },
 "nbformat": 4,
 "nbformat_minor": 5
}
